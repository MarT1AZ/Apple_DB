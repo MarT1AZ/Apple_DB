{
  "nbformat": 4,
  "nbformat_minor": 0,
  "metadata": {
    "colab": {
      "provenance": [],
      "authorship_tag": "ABX9TyP3mkSCcTS3u6sms/J9KLlP",
      "include_colab_link": true
    },
    "kernelspec": {
      "name": "python3",
      "display_name": "Python 3"
    },
    "language_info": {
      "name": "python"
    }
  },
  "cells": [
    {
      "cell_type": "markdown",
      "metadata": {
        "id": "view-in-github",
        "colab_type": "text"
      },
      "source": [
        "<a href=\"https://colab.research.google.com/github/MarT1AZ/Apple_DB/blob/main/Generating_script/GenData_AppleDB.ipynb\" target=\"_parent\"><img src=\"https://colab.research.google.com/assets/colab-badge.svg\" alt=\"Open In Colab\"/></a>"
      ]
    },
    {
      "cell_type": "code",
      "execution_count": 20,
      "metadata": {
        "id": "dWplEtAfSXq9"
      },
      "outputs": [],
      "source": [
        "import numpy as np\n",
        "import pandas as pd\n",
        "import hashlib\n",
        "import random"
      ]
    },
    {
      "cell_type": "markdown",
      "source": [
        "# load data"
      ],
      "metadata": {
        "id": "v5p6uSJfP-W6"
      }
    },
    {
      "cell_type": "markdown",
      "source": [
        "* ### Please directly download form github to your local machine and then uplaod it to the colab for now, using wget cause error on read_csv()"
      ],
      "metadata": {
        "id": "T-5IrZHERvzO"
      }
    },
    {
      "cell_type": "markdown",
      "source": [
        "# Prepare data for Account df"
      ],
      "metadata": {
        "id": "GXvrvxBdy5BD"
      }
    },
    {
      "cell_type": "markdown",
      "source": [
        "### Prepare hashed Password"
      ],
      "metadata": {
        "id": "JeSC0UGr0797"
      }
    },
    {
      "cell_type": "code",
      "source": [
        "digits = np.random.randint(0,10,size = (20,6))\n",
        "hashed_passwords = []\n",
        "for idx in range(len(digits)):\n",
        "  pw = digits[idx]\n",
        "  encoded_pw = str(pw[0]) + str(pw[1]) + str(pw[2]) + str(pw[3]) + str(pw[4]) + str(pw[5])\n",
        "  hashed_passwords.append(hashlib.md5(encoded_pw.encode('ASCII')).hexdigest())\n",
        "hashed_passwords[0:6]"
      ],
      "metadata": {
        "colab": {
          "base_uri": "https://localhost:8080/"
        },
        "id": "Ecvc5zkD-3Ym",
        "outputId": "60d9895b-b25c-43f7-cd9f-2832062ce870"
      },
      "execution_count": 34,
      "outputs": [
        {
          "output_type": "execute_result",
          "data": {
            "text/plain": [
              "['80a43146a79d38835b1170ead2376390',\n",
              " 'f76fce08ccbb41b90196d8dfa37f6e0b',\n",
              " 'a9fd4b294b8e21c314ae0ccd432f8d45',\n",
              " 'd2e1acb1021f451d974eef4976d7704d',\n",
              " 'c06db6647d392455c5f3711e40b9a3d4',\n",
              " 'b43c03e2c7998ae9522f962206037064']"
            ]
          },
          "metadata": {},
          "execution_count": 34
        }
      ]
    },
    {
      "cell_type": "markdown",
      "source": [
        "### Prepare address + country"
      ],
      "metadata": {
        "id": "d-2EbUnO1Gj0"
      }
    },
    {
      "cell_type": "markdown",
      "source": [
        "* #### The data for USA states can be found here : https://github.com/kristw/gridmap-layout-thailand/blob/master/src/input/provinces.csv\n",
        "\n",
        "* #### The data for thailand provinces can be found here : https://docs.google.com/spreadsheets/d/14wvnQygIX1eCVo7H5B7a96W1v5VCg6Q9yeRoESF6epw/edit?gid=0#gid=0\n",
        "\n",
        "* #### The data for japan provinces can be found here : https://github.com/nobuf/list-of-cities-in-japan/blob/master/build/prefectures.csv\n",
        "\n",
        "* #### the street address is generated with Chat GPT (I could find a way to mass generate the street address) see \"street_address.csv\"\n"
      ],
      "metadata": {
        "id": "EldZ8itY2j8U"
      }
    },
    {
      "cell_type": "code",
      "source": [
        "#address include\n",
        "# Street address\n",
        "# zip code\n",
        "# city/state\n",
        "# phone\n",
        "\n",
        "# USA_states_df = pd.read_csv('50 states and abbreviations - Sheet1.csv', on_bad_lines='skip')\n",
        "# THAI_provinces_df = pd.read_csv('provinces.csv', on_bad_lines='skip')\n",
        "# JAPAN_provinces_df = pd.read_csv('prefectures.csv', on_bad_lines='skip')\n",
        "# street_df = pd.read_csv('street_address.csv', on_bad_lines='skip') # incldue zipcode\n",
        "\n",
        "USA_states_df = pd.read_csv('50 states and abbreviations - Sheet1.csv')\n",
        "THAI_provinces_df = pd.read_csv('provinces.csv')\n",
        "JAPAN_provinces_df = pd.read_csv('prefectures.csv')\n",
        "street_df = pd.read_csv('street_address.csv') # incldue zipcode"
      ],
      "metadata": {
        "id": "b_1E8FDaySU5"
      },
      "execution_count": 38,
      "outputs": []
    },
    {
      "cell_type": "code",
      "source": [
        "# sampling 20\n",
        "sample_USA_state = USA_states_df['State'].sample(7).values\n",
        "sample_THAI_prov = THAI_provinces_df['enName'].sample(7).values\n",
        "sample_JAPAN_prov = JAPAN_provinces_df['prefecture_en'].sample(6).values\n",
        "# for JAPAN province, the city comes with 'city_name prefecture' so we need to remove it\n",
        "sample_JAPAN_prov = [jp.split(' ')[0] for jp in sample_JAPAN_prov]\n",
        "sample_city = [*sample_USA_state,*sample_THAI_prov,*sample_JAPAN_prov]\n",
        "sample_street_address_indices = street_df.sample(20).index\n",
        "street_address = street_df.loc[sample_street_address_indices,'Address'].values\n",
        "zip_code = street_df.loc[sample_street_address_indices,' ZIP'].values\n",
        "final_address = []\n",
        "\n",
        "# we know first 7 entries are USA and next 7 entries are THAI and last 6 are JAPAN\n",
        "country = []\n",
        "for i in range(0,7):\n",
        "  country.append('USA')\n",
        "for i in range(0,7):\n",
        "  country.append('Thai')\n",
        "for i in range(0,6):\n",
        "  country.append('Japan')\n",
        "\n",
        "for idx in range(0,20):\n",
        "  final_address.append(street_address[idx] + ' ' + str(zip_code[idx]) + ' '+sample_city[idx])\n",
        "final_address[:6]\n"
      ],
      "metadata": {
        "id": "5CXP-ZrU5OJ0",
        "outputId": "41e46e4c-be38-4e8f-cb23-7ff6c6032c03",
        "colab": {
          "base_uri": "https://localhost:8080/"
        }
      },
      "execution_count": 43,
      "outputs": [
        {
          "output_type": "execute_result",
          "data": {
            "text/plain": [
              "['4339 Birch St 60062 New Mexico',\n",
              " '8890 Cedar Ave 27701 Ohio',\n",
              " '2452 Oak Blvd 7040 Hawaii',\n",
              " '9223 Birch Ln 39209 Maryland',\n",
              " '2563 Birch Rd 98620 Vermont',\n",
              " '3451 Oak St 48201 Minnesota']"
            ]
          },
          "metadata": {},
          "execution_count": 43
        }
      ]
    },
    {
      "cell_type": "markdown",
      "source": [
        "### Prepare names"
      ],
      "metadata": {
        "id": "YaOnpJo933eW"
      }
    },
    {
      "cell_type": "code",
      "source": [
        "fname_list = ['Eloise','Marie','Beatrice','Isla',\n",
        "             'Ellen','Margaret','Maisie','Heidi',\n",
        "              'Lily','Sara','Ben','Brandon','Justin','Steve',\n",
        "             'Leonard','Muhammed','Declan','Ewan',\n",
        "              'Hugo','Steven']\n",
        "\n",
        "lname_list = ['Castaneda','Williams','Bull','Coles',\n",
        "              'Whittaker','Rees','Peters','Brewer',\n",
        "              'Goodwin','Russell','Rawlings','Singh',\n",
        "              'Butler','Clark','Ward','Cross',\n",
        "              'Connor','Carlson','Tate','Gilbert',]\n",
        "\n",
        "# possible name combination is 400 names\n",
        "all_possible_name = [(f + ' ' + l) for f in fname_list for l in lname_list]\n",
        "all_possible_name[0:6]"
      ],
      "metadata": {
        "colab": {
          "base_uri": "https://localhost:8080/"
        },
        "id": "6VHEVaWTqmAN",
        "outputId": "62c713d7-0373-4fea-aa64-a1af2beac576"
      },
      "execution_count": 44,
      "outputs": [
        {
          "output_type": "execute_result",
          "data": {
            "text/plain": [
              "['Eloise Castaneda',\n",
              " 'Eloise Williams',\n",
              " 'Eloise Bull',\n",
              " 'Eloise Coles',\n",
              " 'Eloise Whittaker',\n",
              " 'Eloise Rees']"
            ]
          },
          "metadata": {},
          "execution_count": 44
        }
      ]
    },
    {
      "cell_type": "code",
      "source": [
        "# sampling 25 names from 400 name\n",
        "sample_names = []\n",
        "name_indices = np.random.random_integers(0,400,20)\n",
        "for ni in name_indices:\n",
        "  sample_names.append(all_possible_name[ni])\n",
        "sample_names[0:6]"
      ],
      "metadata": {
        "colab": {
          "base_uri": "https://localhost:8080/"
        },
        "id": "fEOQjH3xsXyh",
        "outputId": "329fa426-b209-40d5-ad8f-e4cea6462ebe"
      },
      "execution_count": 45,
      "outputs": [
        {
          "output_type": "stream",
          "name": "stderr",
          "text": [
            "<ipython-input-45-d04f559328bb>:3: DeprecationWarning: This function is deprecated. Please call randint(0, 400 + 1) instead\n",
            "  name_indices = np.random.random_integers(0,400,20)\n"
          ]
        },
        {
          "output_type": "execute_result",
          "data": {
            "text/plain": [
              "['Sara Castaneda',\n",
              " 'Ellen Ward',\n",
              " 'Isla Peters',\n",
              " 'Isla Brewer',\n",
              " 'Steven Castaneda',\n",
              " 'Steven Whittaker']"
            ]
          },
          "metadata": {},
          "execution_count": 45
        }
      ]
    },
    {
      "cell_type": "markdown",
      "source": [
        "### prepare Email"
      ],
      "metadata": {
        "id": "PHbEngFCBO9U"
      }
    },
    {
      "cell_type": "code",
      "source": [
        "# format fname.lname@gmail.com\n",
        "def first_alph(text):\n",
        "  if (len(text) < 4):\n",
        "    text[0:len(text)]\n",
        "  else:\n",
        "    return text[0:4]\n",
        "\n",
        "emails = []\n",
        "for name in sample_names:\n",
        "  fname,lname = name.split(' ')\n",
        "  # using full fname\n",
        "  # using 4 alphabet of lname\n",
        "  emails.append(fname + '.' + first_alph(lname) + '@gmail.com')"
      ],
      "metadata": {
        "id": "-gPCFJ5DBsnA"
      },
      "execution_count": 46,
      "outputs": []
    },
    {
      "cell_type": "markdown",
      "source": [
        "### prepare phone number"
      ],
      "metadata": {
        "id": "sJq7Ib8oDdh2"
      }
    },
    {
      "cell_type": "code",
      "source": [
        "def gen_phone():\n",
        "  first = str(random.randint(100,999))\n",
        "  second = str(random.randint(100,888))\n",
        "  last = str(random.randint(1,9998))\n",
        "  return f'{first}-{second}-{last}'\n",
        "\n",
        "phone = []\n",
        "for i in range(0,20):\n",
        "  phone.append(gen_phone())\n",
        "phone[:5]"
      ],
      "metadata": {
        "id": "mA6H5nOkDfAU",
        "outputId": "f9a267a1-62ce-4c67-821d-a00acb942402",
        "colab": {
          "base_uri": "https://localhost:8080/"
        }
      },
      "execution_count": 47,
      "outputs": [
        {
          "output_type": "execute_result",
          "data": {
            "text/plain": [
              "['954-148-8872',\n",
              " '992-777-7429',\n",
              " '609-183-4604',\n",
              " '524-180-4551',\n",
              " '128-395-2038']"
            ]
          },
          "metadata": {},
          "execution_count": 47
        }
      ]
    },
    {
      "cell_type": "markdown",
      "source": [
        "### prepare login_verification_method"
      ],
      "metadata": {
        "id": "AHBnlkYYEMyd"
      }
    },
    {
      "cell_type": "code",
      "source": [
        "login_verf_method = ['OTP','device','Email']\n",
        "random_lvf = []\n",
        "for i in range(0,20):\n",
        "  random_lvf.append(login_verf_method[random.randint(0,2)])\n",
        "random_lvf[:7]"
      ],
      "metadata": {
        "id": "g8q16PKFEQy1",
        "outputId": "ef8f5237-3b9d-4838-ce52-ff46192718fe",
        "colab": {
          "base_uri": "https://localhost:8080/"
        }
      },
      "execution_count": 48,
      "outputs": [
        {
          "output_type": "execute_result",
          "data": {
            "text/plain": [
              "['OTP', 'device', 'Email', 'device', 'OTP', 'device', 'OTP']"
            ]
          },
          "metadata": {},
          "execution_count": 48
        }
      ]
    },
    {
      "cell_type": "markdown",
      "source": [
        "# Assembling data to Account df"
      ],
      "metadata": {
        "id": "Tay__5PzzCLN"
      }
    },
    {
      "cell_type": "code",
      "source": [
        "Account_df = pd.DataFrame([],columns = ['Account_ID','Email','Phone_number',\n",
        "                                        'Login_verification_method','country','name',\n",
        "                                        'address','password'])"
      ],
      "metadata": {
        "id": "dfvuzyv-3xEk"
      },
      "execution_count": 49,
      "outputs": []
    },
    {
      "cell_type": "code",
      "source": [
        "Account_df['Account_ID'] = pd.Series(list(range(10000,10020)))\n",
        "Account_df['name'] = pd.Series(sample_names)\n",
        "Account_df['address'] = pd.Series(final_address)\n",
        "Account_df['password'] = pd.Series(hashed_passwords)\n",
        "Account_df['country'] = pd.Series(country)\n",
        "Account_df['Email'] = pd.Series(emails)\n",
        "Account_df['Phone_number'] = pd.Series(phone)\n",
        "Account_df['Login_verification_method'] = pd.Series(random_lvf)"
      ],
      "metadata": {
        "id": "WVyB0GVKpusc"
      },
      "execution_count": 50,
      "outputs": []
    },
    {
      "cell_type": "code",
      "source": [
        "Account_df"
      ],
      "metadata": {
        "colab": {
          "base_uri": "https://localhost:8080/",
          "height": 1000
        },
        "id": "LUUlczb2qGPj",
        "outputId": "7918b391-40d2-42b9-d526-ef722c20dc13"
      },
      "execution_count": 51,
      "outputs": [
        {
          "output_type": "execute_result",
          "data": {
            "text/plain": [
              "    Account_ID                    Email  Phone_number  \\\n",
              "0        10000      Sara.Cast@gmail.com  954-148-8872   \n",
              "1        10001     Ellen.Ward@gmail.com  992-777-7429   \n",
              "2        10002      Isla.Pete@gmail.com  609-183-4604   \n",
              "3        10003      Isla.Brew@gmail.com  524-180-4551   \n",
              "4        10004    Steven.Cast@gmail.com  128-395-2038   \n",
              "5        10005    Steven.Whit@gmail.com  867-425-3198   \n",
              "6        10006     Steve.Conn@gmail.com  379-628-8465   \n",
              "7        10007  Beatrice.Brew@gmail.com  181-752-1137   \n",
              "8        10008     Steve.Clar@gmail.com  836-607-4491   \n",
              "9        10009      Hugo.Gilb@gmail.com  278-598-8472   \n",
              "10       10010      Hugo.Brew@gmail.com  325-473-5529   \n",
              "11       10011     Marie.Gilb@gmail.com  987-476-7905   \n",
              "12       10012     Steve.Cros@gmail.com   381-428-913   \n",
              "13       10013     Heidi.Rees@gmail.com  878-597-6137   \n",
              "14       10014      Lily.Brew@gmail.com  372-326-5082   \n",
              "15       10015      Isla.Conn@gmail.com  833-773-6490   \n",
              "16       10016    Justin.Bull@gmail.com   606-467-679   \n",
              "17       10017      Ewan.Conn@gmail.com  301-583-5400   \n",
              "18       10018      Hugo.Sing@gmail.com  616-280-5012   \n",
              "19       10019  Muhammed.Russ@gmail.com  685-609-4066   \n",
              "\n",
              "   Login_verification_method country              name  \\\n",
              "0                        OTP     USA    Sara Castaneda   \n",
              "1                     device     USA        Ellen Ward   \n",
              "2                      Email     USA       Isla Peters   \n",
              "3                     device     USA       Isla Brewer   \n",
              "4                        OTP     USA  Steven Castaneda   \n",
              "5                     device     USA  Steven Whittaker   \n",
              "6                        OTP     USA      Steve Connor   \n",
              "7                     device    Thai   Beatrice Brewer   \n",
              "8                     device    Thai       Steve Clark   \n",
              "9                      Email    Thai      Hugo Gilbert   \n",
              "10                    device    Thai       Hugo Brewer   \n",
              "11                    device    Thai     Marie Gilbert   \n",
              "12                     Email    Thai       Steve Cross   \n",
              "13                    device    Thai        Heidi Rees   \n",
              "14                    device   Japan       Lily Brewer   \n",
              "15                     Email   Japan       Isla Connor   \n",
              "16                     Email   Japan       Justin Bull   \n",
              "17                     Email   Japan       Ewan Connor   \n",
              "18                       OTP   Japan        Hugo Singh   \n",
              "19                       OTP   Japan  Muhammed Russell   \n",
              "\n",
              "                              address                          password  \n",
              "0      4339 Birch St 60062 New Mexico  80a43146a79d38835b1170ead2376390  \n",
              "1           8890 Cedar Ave 27701 Ohio  f76fce08ccbb41b90196d8dfa37f6e0b  \n",
              "2           2452 Oak Blvd 7040 Hawaii  a9fd4b294b8e21c314ae0ccd432f8d45  \n",
              "3        9223 Birch Ln 39209 Maryland  d2e1acb1021f451d974eef4976d7704d  \n",
              "4         2563 Birch Rd 98620 Vermont  c06db6647d392455c5f3711e40b9a3d4  \n",
              "5         3451 Oak St 48201 Minnesota  b43c03e2c7998ae9522f962206037064  \n",
              "6          4450 Cedar Ave 7090 Nevada  e6809c8ae732ee0fd68c96b4c6375d87  \n",
              "7            5338 Cedar St 44107 Yala  acc01646b27fa9c8af478c259eb47cde  \n",
              "8      404 Walnut Rd 10001 Nonthaburi  eda4bcf2c715b2e10990ad454a67c1e4  \n",
              "9   7225 Maple Blvd 31601 SamutSakhon  2bbbfd50aca1c6292072b662fb95e888  \n",
              "10    4117 Maple Dr 46928 Phetchaburi  1fe9edc5941fbbc5f00257a0f1c333d9  \n",
              "11       1897 Willow Dr 44102 Lamphun  e3594011fe1c06550fb6f2989717b9a2  \n",
              "12   3007 Hickory St 22150 Chaiyaphum  3912e7f6ddb7e23ecd337bf8942fbc8b  \n",
              "13    2674 Redwood Ave 90041 NongKhai  e6f463d0b7c7c0c1a417cd3bfb183f44  \n",
              "14        9667 Maple Blvd 49503 Chiba  91d5784e62c7554dcbd98bf2b4e7e340  \n",
              "15        3229 Maple Rd 92501 Niigata  d475fbdb67439b78145e2fec0daeb920  \n",
              "16         7669 Pine Blvd 27101 Osaka  3ac837c7590eab2d846d9709a8482e31  \n",
              "17        6892 Birch Rd 35401 Tochigi  4ab4acf49aa2ffd7c86db73f596d0050  \n",
              "18          1786 Cedar Rd 48104 Kyoto  237d23868124e5cb034c819fc0371dda  \n",
              "19       2341 Maple St 45401 Kumamoto  04913f88edf38982d9284008aba90101  "
            ],
            "text/html": [
              "\n",
              "  <div id=\"df-7c150c24-8f8e-424a-b7a1-e3c112f10a9d\" class=\"colab-df-container\">\n",
              "    <div>\n",
              "<style scoped>\n",
              "    .dataframe tbody tr th:only-of-type {\n",
              "        vertical-align: middle;\n",
              "    }\n",
              "\n",
              "    .dataframe tbody tr th {\n",
              "        vertical-align: top;\n",
              "    }\n",
              "\n",
              "    .dataframe thead th {\n",
              "        text-align: right;\n",
              "    }\n",
              "</style>\n",
              "<table border=\"1\" class=\"dataframe\">\n",
              "  <thead>\n",
              "    <tr style=\"text-align: right;\">\n",
              "      <th></th>\n",
              "      <th>Account_ID</th>\n",
              "      <th>Email</th>\n",
              "      <th>Phone_number</th>\n",
              "      <th>Login_verification_method</th>\n",
              "      <th>country</th>\n",
              "      <th>name</th>\n",
              "      <th>address</th>\n",
              "      <th>password</th>\n",
              "    </tr>\n",
              "  </thead>\n",
              "  <tbody>\n",
              "    <tr>\n",
              "      <th>0</th>\n",
              "      <td>10000</td>\n",
              "      <td>Sara.Cast@gmail.com</td>\n",
              "      <td>954-148-8872</td>\n",
              "      <td>OTP</td>\n",
              "      <td>USA</td>\n",
              "      <td>Sara Castaneda</td>\n",
              "      <td>4339 Birch St 60062 New Mexico</td>\n",
              "      <td>80a43146a79d38835b1170ead2376390</td>\n",
              "    </tr>\n",
              "    <tr>\n",
              "      <th>1</th>\n",
              "      <td>10001</td>\n",
              "      <td>Ellen.Ward@gmail.com</td>\n",
              "      <td>992-777-7429</td>\n",
              "      <td>device</td>\n",
              "      <td>USA</td>\n",
              "      <td>Ellen Ward</td>\n",
              "      <td>8890 Cedar Ave 27701 Ohio</td>\n",
              "      <td>f76fce08ccbb41b90196d8dfa37f6e0b</td>\n",
              "    </tr>\n",
              "    <tr>\n",
              "      <th>2</th>\n",
              "      <td>10002</td>\n",
              "      <td>Isla.Pete@gmail.com</td>\n",
              "      <td>609-183-4604</td>\n",
              "      <td>Email</td>\n",
              "      <td>USA</td>\n",
              "      <td>Isla Peters</td>\n",
              "      <td>2452 Oak Blvd 7040 Hawaii</td>\n",
              "      <td>a9fd4b294b8e21c314ae0ccd432f8d45</td>\n",
              "    </tr>\n",
              "    <tr>\n",
              "      <th>3</th>\n",
              "      <td>10003</td>\n",
              "      <td>Isla.Brew@gmail.com</td>\n",
              "      <td>524-180-4551</td>\n",
              "      <td>device</td>\n",
              "      <td>USA</td>\n",
              "      <td>Isla Brewer</td>\n",
              "      <td>9223 Birch Ln 39209 Maryland</td>\n",
              "      <td>d2e1acb1021f451d974eef4976d7704d</td>\n",
              "    </tr>\n",
              "    <tr>\n",
              "      <th>4</th>\n",
              "      <td>10004</td>\n",
              "      <td>Steven.Cast@gmail.com</td>\n",
              "      <td>128-395-2038</td>\n",
              "      <td>OTP</td>\n",
              "      <td>USA</td>\n",
              "      <td>Steven Castaneda</td>\n",
              "      <td>2563 Birch Rd 98620 Vermont</td>\n",
              "      <td>c06db6647d392455c5f3711e40b9a3d4</td>\n",
              "    </tr>\n",
              "    <tr>\n",
              "      <th>5</th>\n",
              "      <td>10005</td>\n",
              "      <td>Steven.Whit@gmail.com</td>\n",
              "      <td>867-425-3198</td>\n",
              "      <td>device</td>\n",
              "      <td>USA</td>\n",
              "      <td>Steven Whittaker</td>\n",
              "      <td>3451 Oak St 48201 Minnesota</td>\n",
              "      <td>b43c03e2c7998ae9522f962206037064</td>\n",
              "    </tr>\n",
              "    <tr>\n",
              "      <th>6</th>\n",
              "      <td>10006</td>\n",
              "      <td>Steve.Conn@gmail.com</td>\n",
              "      <td>379-628-8465</td>\n",
              "      <td>OTP</td>\n",
              "      <td>USA</td>\n",
              "      <td>Steve Connor</td>\n",
              "      <td>4450 Cedar Ave 7090 Nevada</td>\n",
              "      <td>e6809c8ae732ee0fd68c96b4c6375d87</td>\n",
              "    </tr>\n",
              "    <tr>\n",
              "      <th>7</th>\n",
              "      <td>10007</td>\n",
              "      <td>Beatrice.Brew@gmail.com</td>\n",
              "      <td>181-752-1137</td>\n",
              "      <td>device</td>\n",
              "      <td>Thai</td>\n",
              "      <td>Beatrice Brewer</td>\n",
              "      <td>5338 Cedar St 44107 Yala</td>\n",
              "      <td>acc01646b27fa9c8af478c259eb47cde</td>\n",
              "    </tr>\n",
              "    <tr>\n",
              "      <th>8</th>\n",
              "      <td>10008</td>\n",
              "      <td>Steve.Clar@gmail.com</td>\n",
              "      <td>836-607-4491</td>\n",
              "      <td>device</td>\n",
              "      <td>Thai</td>\n",
              "      <td>Steve Clark</td>\n",
              "      <td>404 Walnut Rd 10001 Nonthaburi</td>\n",
              "      <td>eda4bcf2c715b2e10990ad454a67c1e4</td>\n",
              "    </tr>\n",
              "    <tr>\n",
              "      <th>9</th>\n",
              "      <td>10009</td>\n",
              "      <td>Hugo.Gilb@gmail.com</td>\n",
              "      <td>278-598-8472</td>\n",
              "      <td>Email</td>\n",
              "      <td>Thai</td>\n",
              "      <td>Hugo Gilbert</td>\n",
              "      <td>7225 Maple Blvd 31601 SamutSakhon</td>\n",
              "      <td>2bbbfd50aca1c6292072b662fb95e888</td>\n",
              "    </tr>\n",
              "    <tr>\n",
              "      <th>10</th>\n",
              "      <td>10010</td>\n",
              "      <td>Hugo.Brew@gmail.com</td>\n",
              "      <td>325-473-5529</td>\n",
              "      <td>device</td>\n",
              "      <td>Thai</td>\n",
              "      <td>Hugo Brewer</td>\n",
              "      <td>4117 Maple Dr 46928 Phetchaburi</td>\n",
              "      <td>1fe9edc5941fbbc5f00257a0f1c333d9</td>\n",
              "    </tr>\n",
              "    <tr>\n",
              "      <th>11</th>\n",
              "      <td>10011</td>\n",
              "      <td>Marie.Gilb@gmail.com</td>\n",
              "      <td>987-476-7905</td>\n",
              "      <td>device</td>\n",
              "      <td>Thai</td>\n",
              "      <td>Marie Gilbert</td>\n",
              "      <td>1897 Willow Dr 44102 Lamphun</td>\n",
              "      <td>e3594011fe1c06550fb6f2989717b9a2</td>\n",
              "    </tr>\n",
              "    <tr>\n",
              "      <th>12</th>\n",
              "      <td>10012</td>\n",
              "      <td>Steve.Cros@gmail.com</td>\n",
              "      <td>381-428-913</td>\n",
              "      <td>Email</td>\n",
              "      <td>Thai</td>\n",
              "      <td>Steve Cross</td>\n",
              "      <td>3007 Hickory St 22150 Chaiyaphum</td>\n",
              "      <td>3912e7f6ddb7e23ecd337bf8942fbc8b</td>\n",
              "    </tr>\n",
              "    <tr>\n",
              "      <th>13</th>\n",
              "      <td>10013</td>\n",
              "      <td>Heidi.Rees@gmail.com</td>\n",
              "      <td>878-597-6137</td>\n",
              "      <td>device</td>\n",
              "      <td>Thai</td>\n",
              "      <td>Heidi Rees</td>\n",
              "      <td>2674 Redwood Ave 90041 NongKhai</td>\n",
              "      <td>e6f463d0b7c7c0c1a417cd3bfb183f44</td>\n",
              "    </tr>\n",
              "    <tr>\n",
              "      <th>14</th>\n",
              "      <td>10014</td>\n",
              "      <td>Lily.Brew@gmail.com</td>\n",
              "      <td>372-326-5082</td>\n",
              "      <td>device</td>\n",
              "      <td>Japan</td>\n",
              "      <td>Lily Brewer</td>\n",
              "      <td>9667 Maple Blvd 49503 Chiba</td>\n",
              "      <td>91d5784e62c7554dcbd98bf2b4e7e340</td>\n",
              "    </tr>\n",
              "    <tr>\n",
              "      <th>15</th>\n",
              "      <td>10015</td>\n",
              "      <td>Isla.Conn@gmail.com</td>\n",
              "      <td>833-773-6490</td>\n",
              "      <td>Email</td>\n",
              "      <td>Japan</td>\n",
              "      <td>Isla Connor</td>\n",
              "      <td>3229 Maple Rd 92501 Niigata</td>\n",
              "      <td>d475fbdb67439b78145e2fec0daeb920</td>\n",
              "    </tr>\n",
              "    <tr>\n",
              "      <th>16</th>\n",
              "      <td>10016</td>\n",
              "      <td>Justin.Bull@gmail.com</td>\n",
              "      <td>606-467-679</td>\n",
              "      <td>Email</td>\n",
              "      <td>Japan</td>\n",
              "      <td>Justin Bull</td>\n",
              "      <td>7669 Pine Blvd 27101 Osaka</td>\n",
              "      <td>3ac837c7590eab2d846d9709a8482e31</td>\n",
              "    </tr>\n",
              "    <tr>\n",
              "      <th>17</th>\n",
              "      <td>10017</td>\n",
              "      <td>Ewan.Conn@gmail.com</td>\n",
              "      <td>301-583-5400</td>\n",
              "      <td>Email</td>\n",
              "      <td>Japan</td>\n",
              "      <td>Ewan Connor</td>\n",
              "      <td>6892 Birch Rd 35401 Tochigi</td>\n",
              "      <td>4ab4acf49aa2ffd7c86db73f596d0050</td>\n",
              "    </tr>\n",
              "    <tr>\n",
              "      <th>18</th>\n",
              "      <td>10018</td>\n",
              "      <td>Hugo.Sing@gmail.com</td>\n",
              "      <td>616-280-5012</td>\n",
              "      <td>OTP</td>\n",
              "      <td>Japan</td>\n",
              "      <td>Hugo Singh</td>\n",
              "      <td>1786 Cedar Rd 48104 Kyoto</td>\n",
              "      <td>237d23868124e5cb034c819fc0371dda</td>\n",
              "    </tr>\n",
              "    <tr>\n",
              "      <th>19</th>\n",
              "      <td>10019</td>\n",
              "      <td>Muhammed.Russ@gmail.com</td>\n",
              "      <td>685-609-4066</td>\n",
              "      <td>OTP</td>\n",
              "      <td>Japan</td>\n",
              "      <td>Muhammed Russell</td>\n",
              "      <td>2341 Maple St 45401 Kumamoto</td>\n",
              "      <td>04913f88edf38982d9284008aba90101</td>\n",
              "    </tr>\n",
              "  </tbody>\n",
              "</table>\n",
              "</div>\n",
              "    <div class=\"colab-df-buttons\">\n",
              "\n",
              "  <div class=\"colab-df-container\">\n",
              "    <button class=\"colab-df-convert\" onclick=\"convertToInteractive('df-7c150c24-8f8e-424a-b7a1-e3c112f10a9d')\"\n",
              "            title=\"Convert this dataframe to an interactive table.\"\n",
              "            style=\"display:none;\">\n",
              "\n",
              "  <svg xmlns=\"http://www.w3.org/2000/svg\" height=\"24px\" viewBox=\"0 -960 960 960\">\n",
              "    <path d=\"M120-120v-720h720v720H120Zm60-500h600v-160H180v160Zm220 220h160v-160H400v160Zm0 220h160v-160H400v160ZM180-400h160v-160H180v160Zm440 0h160v-160H620v160ZM180-180h160v-160H180v160Zm440 0h160v-160H620v160Z\"/>\n",
              "  </svg>\n",
              "    </button>\n",
              "\n",
              "  <style>\n",
              "    .colab-df-container {\n",
              "      display:flex;\n",
              "      gap: 12px;\n",
              "    }\n",
              "\n",
              "    .colab-df-convert {\n",
              "      background-color: #E8F0FE;\n",
              "      border: none;\n",
              "      border-radius: 50%;\n",
              "      cursor: pointer;\n",
              "      display: none;\n",
              "      fill: #1967D2;\n",
              "      height: 32px;\n",
              "      padding: 0 0 0 0;\n",
              "      width: 32px;\n",
              "    }\n",
              "\n",
              "    .colab-df-convert:hover {\n",
              "      background-color: #E2EBFA;\n",
              "      box-shadow: 0px 1px 2px rgba(60, 64, 67, 0.3), 0px 1px 3px 1px rgba(60, 64, 67, 0.15);\n",
              "      fill: #174EA6;\n",
              "    }\n",
              "\n",
              "    .colab-df-buttons div {\n",
              "      margin-bottom: 4px;\n",
              "    }\n",
              "\n",
              "    [theme=dark] .colab-df-convert {\n",
              "      background-color: #3B4455;\n",
              "      fill: #D2E3FC;\n",
              "    }\n",
              "\n",
              "    [theme=dark] .colab-df-convert:hover {\n",
              "      background-color: #434B5C;\n",
              "      box-shadow: 0px 1px 3px 1px rgba(0, 0, 0, 0.15);\n",
              "      filter: drop-shadow(0px 1px 2px rgba(0, 0, 0, 0.3));\n",
              "      fill: #FFFFFF;\n",
              "    }\n",
              "  </style>\n",
              "\n",
              "    <script>\n",
              "      const buttonEl =\n",
              "        document.querySelector('#df-7c150c24-8f8e-424a-b7a1-e3c112f10a9d button.colab-df-convert');\n",
              "      buttonEl.style.display =\n",
              "        google.colab.kernel.accessAllowed ? 'block' : 'none';\n",
              "\n",
              "      async function convertToInteractive(key) {\n",
              "        const element = document.querySelector('#df-7c150c24-8f8e-424a-b7a1-e3c112f10a9d');\n",
              "        const dataTable =\n",
              "          await google.colab.kernel.invokeFunction('convertToInteractive',\n",
              "                                                    [key], {});\n",
              "        if (!dataTable) return;\n",
              "\n",
              "        const docLinkHtml = 'Like what you see? Visit the ' +\n",
              "          '<a target=\"_blank\" href=https://colab.research.google.com/notebooks/data_table.ipynb>data table notebook</a>'\n",
              "          + ' to learn more about interactive tables.';\n",
              "        element.innerHTML = '';\n",
              "        dataTable['output_type'] = 'display_data';\n",
              "        await google.colab.output.renderOutput(dataTable, element);\n",
              "        const docLink = document.createElement('div');\n",
              "        docLink.innerHTML = docLinkHtml;\n",
              "        element.appendChild(docLink);\n",
              "      }\n",
              "    </script>\n",
              "  </div>\n",
              "\n",
              "\n",
              "<div id=\"df-7215669e-e104-4b07-a0a8-96c8451f9cee\">\n",
              "  <button class=\"colab-df-quickchart\" onclick=\"quickchart('df-7215669e-e104-4b07-a0a8-96c8451f9cee')\"\n",
              "            title=\"Suggest charts\"\n",
              "            style=\"display:none;\">\n",
              "\n",
              "<svg xmlns=\"http://www.w3.org/2000/svg\" height=\"24px\"viewBox=\"0 0 24 24\"\n",
              "     width=\"24px\">\n",
              "    <g>\n",
              "        <path d=\"M19 3H5c-1.1 0-2 .9-2 2v14c0 1.1.9 2 2 2h14c1.1 0 2-.9 2-2V5c0-1.1-.9-2-2-2zM9 17H7v-7h2v7zm4 0h-2V7h2v10zm4 0h-2v-4h2v4z\"/>\n",
              "    </g>\n",
              "</svg>\n",
              "  </button>\n",
              "\n",
              "<style>\n",
              "  .colab-df-quickchart {\n",
              "      --bg-color: #E8F0FE;\n",
              "      --fill-color: #1967D2;\n",
              "      --hover-bg-color: #E2EBFA;\n",
              "      --hover-fill-color: #174EA6;\n",
              "      --disabled-fill-color: #AAA;\n",
              "      --disabled-bg-color: #DDD;\n",
              "  }\n",
              "\n",
              "  [theme=dark] .colab-df-quickchart {\n",
              "      --bg-color: #3B4455;\n",
              "      --fill-color: #D2E3FC;\n",
              "      --hover-bg-color: #434B5C;\n",
              "      --hover-fill-color: #FFFFFF;\n",
              "      --disabled-bg-color: #3B4455;\n",
              "      --disabled-fill-color: #666;\n",
              "  }\n",
              "\n",
              "  .colab-df-quickchart {\n",
              "    background-color: var(--bg-color);\n",
              "    border: none;\n",
              "    border-radius: 50%;\n",
              "    cursor: pointer;\n",
              "    display: none;\n",
              "    fill: var(--fill-color);\n",
              "    height: 32px;\n",
              "    padding: 0;\n",
              "    width: 32px;\n",
              "  }\n",
              "\n",
              "  .colab-df-quickchart:hover {\n",
              "    background-color: var(--hover-bg-color);\n",
              "    box-shadow: 0 1px 2px rgba(60, 64, 67, 0.3), 0 1px 3px 1px rgba(60, 64, 67, 0.15);\n",
              "    fill: var(--button-hover-fill-color);\n",
              "  }\n",
              "\n",
              "  .colab-df-quickchart-complete:disabled,\n",
              "  .colab-df-quickchart-complete:disabled:hover {\n",
              "    background-color: var(--disabled-bg-color);\n",
              "    fill: var(--disabled-fill-color);\n",
              "    box-shadow: none;\n",
              "  }\n",
              "\n",
              "  .colab-df-spinner {\n",
              "    border: 2px solid var(--fill-color);\n",
              "    border-color: transparent;\n",
              "    border-bottom-color: var(--fill-color);\n",
              "    animation:\n",
              "      spin 1s steps(1) infinite;\n",
              "  }\n",
              "\n",
              "  @keyframes spin {\n",
              "    0% {\n",
              "      border-color: transparent;\n",
              "      border-bottom-color: var(--fill-color);\n",
              "      border-left-color: var(--fill-color);\n",
              "    }\n",
              "    20% {\n",
              "      border-color: transparent;\n",
              "      border-left-color: var(--fill-color);\n",
              "      border-top-color: var(--fill-color);\n",
              "    }\n",
              "    30% {\n",
              "      border-color: transparent;\n",
              "      border-left-color: var(--fill-color);\n",
              "      border-top-color: var(--fill-color);\n",
              "      border-right-color: var(--fill-color);\n",
              "    }\n",
              "    40% {\n",
              "      border-color: transparent;\n",
              "      border-right-color: var(--fill-color);\n",
              "      border-top-color: var(--fill-color);\n",
              "    }\n",
              "    60% {\n",
              "      border-color: transparent;\n",
              "      border-right-color: var(--fill-color);\n",
              "    }\n",
              "    80% {\n",
              "      border-color: transparent;\n",
              "      border-right-color: var(--fill-color);\n",
              "      border-bottom-color: var(--fill-color);\n",
              "    }\n",
              "    90% {\n",
              "      border-color: transparent;\n",
              "      border-bottom-color: var(--fill-color);\n",
              "    }\n",
              "  }\n",
              "</style>\n",
              "\n",
              "  <script>\n",
              "    async function quickchart(key) {\n",
              "      const quickchartButtonEl =\n",
              "        document.querySelector('#' + key + ' button');\n",
              "      quickchartButtonEl.disabled = true;  // To prevent multiple clicks.\n",
              "      quickchartButtonEl.classList.add('colab-df-spinner');\n",
              "      try {\n",
              "        const charts = await google.colab.kernel.invokeFunction(\n",
              "            'suggestCharts', [key], {});\n",
              "      } catch (error) {\n",
              "        console.error('Error during call to suggestCharts:', error);\n",
              "      }\n",
              "      quickchartButtonEl.classList.remove('colab-df-spinner');\n",
              "      quickchartButtonEl.classList.add('colab-df-quickchart-complete');\n",
              "    }\n",
              "    (() => {\n",
              "      let quickchartButtonEl =\n",
              "        document.querySelector('#df-7215669e-e104-4b07-a0a8-96c8451f9cee button');\n",
              "      quickchartButtonEl.style.display =\n",
              "        google.colab.kernel.accessAllowed ? 'block' : 'none';\n",
              "    })();\n",
              "  </script>\n",
              "</div>\n",
              "\n",
              "  <div id=\"id_b5ccf661-0a72-4560-9482-a7fd4e4fbe65\">\n",
              "    <style>\n",
              "      .colab-df-generate {\n",
              "        background-color: #E8F0FE;\n",
              "        border: none;\n",
              "        border-radius: 50%;\n",
              "        cursor: pointer;\n",
              "        display: none;\n",
              "        fill: #1967D2;\n",
              "        height: 32px;\n",
              "        padding: 0 0 0 0;\n",
              "        width: 32px;\n",
              "      }\n",
              "\n",
              "      .colab-df-generate:hover {\n",
              "        background-color: #E2EBFA;\n",
              "        box-shadow: 0px 1px 2px rgba(60, 64, 67, 0.3), 0px 1px 3px 1px rgba(60, 64, 67, 0.15);\n",
              "        fill: #174EA6;\n",
              "      }\n",
              "\n",
              "      [theme=dark] .colab-df-generate {\n",
              "        background-color: #3B4455;\n",
              "        fill: #D2E3FC;\n",
              "      }\n",
              "\n",
              "      [theme=dark] .colab-df-generate:hover {\n",
              "        background-color: #434B5C;\n",
              "        box-shadow: 0px 1px 3px 1px rgba(0, 0, 0, 0.15);\n",
              "        filter: drop-shadow(0px 1px 2px rgba(0, 0, 0, 0.3));\n",
              "        fill: #FFFFFF;\n",
              "      }\n",
              "    </style>\n",
              "    <button class=\"colab-df-generate\" onclick=\"generateWithVariable('Account_df')\"\n",
              "            title=\"Generate code using this dataframe.\"\n",
              "            style=\"display:none;\">\n",
              "\n",
              "  <svg xmlns=\"http://www.w3.org/2000/svg\" height=\"24px\"viewBox=\"0 0 24 24\"\n",
              "       width=\"24px\">\n",
              "    <path d=\"M7,19H8.4L18.45,9,17,7.55,7,17.6ZM5,21V16.75L18.45,3.32a2,2,0,0,1,2.83,0l1.4,1.43a1.91,1.91,0,0,1,.58,1.4,1.91,1.91,0,0,1-.58,1.4L9.25,21ZM18.45,9,17,7.55Zm-12,3A5.31,5.31,0,0,0,4.9,8.1,5.31,5.31,0,0,0,1,6.5,5.31,5.31,0,0,0,4.9,4.9,5.31,5.31,0,0,0,6.5,1,5.31,5.31,0,0,0,8.1,4.9,5.31,5.31,0,0,0,12,6.5,5.46,5.46,0,0,0,6.5,12Z\"/>\n",
              "  </svg>\n",
              "    </button>\n",
              "    <script>\n",
              "      (() => {\n",
              "      const buttonEl =\n",
              "        document.querySelector('#id_b5ccf661-0a72-4560-9482-a7fd4e4fbe65 button.colab-df-generate');\n",
              "      buttonEl.style.display =\n",
              "        google.colab.kernel.accessAllowed ? 'block' : 'none';\n",
              "\n",
              "      buttonEl.onclick = () => {\n",
              "        google.colab.notebook.generateWithVariable('Account_df');\n",
              "      }\n",
              "      })();\n",
              "    </script>\n",
              "  </div>\n",
              "\n",
              "    </div>\n",
              "  </div>\n"
            ],
            "application/vnd.google.colaboratory.intrinsic+json": {
              "type": "dataframe",
              "variable_name": "Account_df",
              "summary": "{\n  \"name\": \"Account_df\",\n  \"rows\": 20,\n  \"fields\": [\n    {\n      \"column\": \"Account_ID\",\n      \"properties\": {\n        \"dtype\": \"number\",\n        \"std\": 5,\n        \"min\": 10000,\n        \"max\": 10019,\n        \"num_unique_values\": 20,\n        \"samples\": [\n          10000,\n          10017,\n          10015\n        ],\n        \"semantic_type\": \"\",\n        \"description\": \"\"\n      }\n    },\n    {\n      \"column\": \"Email\",\n      \"properties\": {\n        \"dtype\": \"string\",\n        \"num_unique_values\": 20,\n        \"samples\": [\n          \"Sara.Cast@gmail.com\",\n          \"Ewan.Conn@gmail.com\",\n          \"Isla.Conn@gmail.com\"\n        ],\n        \"semantic_type\": \"\",\n        \"description\": \"\"\n      }\n    },\n    {\n      \"column\": \"Phone_number\",\n      \"properties\": {\n        \"dtype\": \"string\",\n        \"num_unique_values\": 20,\n        \"samples\": [\n          \"954-148-8872\",\n          \"301-583-5400\",\n          \"833-773-6490\"\n        ],\n        \"semantic_type\": \"\",\n        \"description\": \"\"\n      }\n    },\n    {\n      \"column\": \"Login_verification_method\",\n      \"properties\": {\n        \"dtype\": \"category\",\n        \"num_unique_values\": 3,\n        \"samples\": [\n          \"OTP\",\n          \"device\",\n          \"Email\"\n        ],\n        \"semantic_type\": \"\",\n        \"description\": \"\"\n      }\n    },\n    {\n      \"column\": \"country\",\n      \"properties\": {\n        \"dtype\": \"category\",\n        \"num_unique_values\": 3,\n        \"samples\": [\n          \"USA\",\n          \"Thai\",\n          \"Japan\"\n        ],\n        \"semantic_type\": \"\",\n        \"description\": \"\"\n      }\n    },\n    {\n      \"column\": \"name\",\n      \"properties\": {\n        \"dtype\": \"string\",\n        \"num_unique_values\": 20,\n        \"samples\": [\n          \"Sara Castaneda\",\n          \"Ewan Connor\",\n          \"Isla Connor\"\n        ],\n        \"semantic_type\": \"\",\n        \"description\": \"\"\n      }\n    },\n    {\n      \"column\": \"address\",\n      \"properties\": {\n        \"dtype\": \"string\",\n        \"num_unique_values\": 20,\n        \"samples\": [\n          \"4339 Birch St 60062 New Mexico\",\n          \"6892 Birch Rd 35401 Tochigi\",\n          \"3229 Maple Rd 92501 Niigata\"\n        ],\n        \"semantic_type\": \"\",\n        \"description\": \"\"\n      }\n    },\n    {\n      \"column\": \"password\",\n      \"properties\": {\n        \"dtype\": \"string\",\n        \"num_unique_values\": 20,\n        \"samples\": [\n          \"80a43146a79d38835b1170ead2376390\",\n          \"4ab4acf49aa2ffd7c86db73f596d0050\",\n          \"d475fbdb67439b78145e2fec0daeb920\"\n        ],\n        \"semantic_type\": \"\",\n        \"description\": \"\"\n      }\n    }\n  ]\n}"
            }
          },
          "metadata": {},
          "execution_count": 51
        }
      ]
    },
    {
      "cell_type": "code",
      "source": [
        "Account_df.to_csv('Apple_account.csv') # saving data"
      ],
      "metadata": {
        "id": "XCbKtEDqGEhl"
      },
      "execution_count": 52,
      "outputs": []
    },
    {
      "cell_type": "markdown",
      "source": [
        "# Prepare data for apple physical store"
      ],
      "metadata": {
        "id": "yLGmhDlZFVov"
      }
    },
    {
      "cell_type": "code",
      "source": [
        "# Apple Central World\n",
        "# 4, 4/1-4/2, 4/4 ถนนราชดำริห์\n",
        "# เขตปทุมวัน\n",
        "# กรุงเทพมหานคร 10330\n",
        "# 1800 019 448\n",
        "\n",
        "# Apple World Trade Center\n",
        "# 185 Greenwich Street\n",
        "# New York, NY 10007\n",
        "# (646) 802-3800\n",
        "\n",
        "# Apple Marina Bay Sands\n",
        "# 2 Bayfront Avenue, B2-06\n",
        "# Singapore, 018972\n",
        "# 1800 407 4949\n",
        "\n",
        "# Apple Causeway Bay\n",
        "# Hysan Place\n",
        "# 500 Hennessy Road\n",
        "# Causeway Bay\n",
        "# 39793100\n",
        "\n",
        "# Apple Brompton Road\n",
        "# 17-27 Brompton Road\n",
        "# London, SW1X 9LF\n",
        "# 020 3089 3000\n",
        "\n",
        "# Apple Alstertal\n",
        "# Alstertal-Einkaufszentrum\n",
        "# Poppenbüttel\n",
        "# 22391 Hamburg\n",
        "# (040) 6118315000\n",
        "\n",
        "# Apple Akasya\n",
        "# Akasya AVM\n",
        "# Acıbadem Mah, Çeçen Sok No: 25\n",
        "# Üsküdar İstanbul 34660\n",
        "# (0216) 250 71 00\n",
        "\n",
        "# Apple Dubai Mall\n",
        "# The Dubai Mall\n",
        "# Downtown\n",
        "# Dubai\n",
        "# 800 0444 9012\n",
        "\n",
        "# Apple Highpoint\n",
        "# Highpoint Shopping Centre\n",
        "# 120-200 Rosamond Road\n",
        "# Maribyrnong, VIC 3032\n",
        "# (03) 9975 9700\n",
        "\n",
        "# Apple Marché Saint-Germain\n",
        "# 9 rue Clément\n",
        "# 75006 Paris\n",
        "# 01 85 65 48 00\n",
        "\n",
        "# Apple Union Square\n",
        "# 300 Post Street\n",
        "# San Francisco, CA 94108\n",
        "# (415) 486-4800"
      ],
      "metadata": {
        "id": "8cw9RQgYu9zv"
      },
      "execution_count": null,
      "outputs": []
    }
  ]
}