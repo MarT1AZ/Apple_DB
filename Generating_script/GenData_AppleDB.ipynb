{
  "nbformat": 4,
  "nbformat_minor": 0,
  "metadata": {
    "colab": {
      "provenance": [],
      "authorship_tag": "ABX9TyMcm05TCZNpw2XUOtn0SFDj",
      "include_colab_link": true
    },
    "kernelspec": {
      "name": "python3",
      "display_name": "Python 3"
    },
    "language_info": {
      "name": "python"
    }
  },
  "cells": [
    {
      "cell_type": "markdown",
      "metadata": {
        "id": "view-in-github",
        "colab_type": "text"
      },
      "source": [
        "<a href=\"https://colab.research.google.com/github/MarT1AZ/Generate-data-for-Apple-DB/blob/main/GenData_AppleDB.ipynb\" target=\"_parent\"><img src=\"https://colab.research.google.com/assets/colab-badge.svg\" alt=\"Open In Colab\"/></a>"
      ]
    },
    {
      "cell_type": "code",
      "execution_count": 104,
      "metadata": {
        "id": "dWplEtAfSXq9"
      },
      "outputs": [],
      "source": [
        "import numpy as np\n",
        "import pandas as pd\n",
        "import hashlib\n",
        "import random"
      ]
    },
    {
      "cell_type": "markdown",
      "source": [
        "# Prepare data for Account df"
      ],
      "metadata": {
        "id": "GXvrvxBdy5BD"
      }
    },
    {
      "cell_type": "markdown",
      "source": [
        "### Prepare hashed Password"
      ],
      "metadata": {
        "id": "JeSC0UGr0797"
      }
    },
    {
      "cell_type": "code",
      "source": [
        "digits = np.random.randint(0,10,size = (20,6))\n",
        "digits[0:6,:]"
      ],
      "metadata": {
        "colab": {
          "base_uri": "https://localhost:8080/"
        },
        "id": "Ecvc5zkD-3Ym",
        "outputId": "c1ba6181-f038-481d-9fe3-41bac1b92346"
      },
      "execution_count": 90,
      "outputs": [
        {
          "output_type": "execute_result",
          "data": {
            "text/plain": [
              "array([[0, 5, 5, 2, 8, 4],\n",
              "       [6, 8, 9, 0, 1, 9],\n",
              "       [7, 2, 7, 7, 4, 7],\n",
              "       [4, 3, 4, 1, 3, 1],\n",
              "       [3, 3, 7, 7, 9, 0],\n",
              "       [6, 2, 5, 7, 3, 3]])"
            ]
          },
          "metadata": {},
          "execution_count": 90
        }
      ]
    },
    {
      "cell_type": "code",
      "source": [
        "hashed_passwords = []\n",
        "for idx in range(len(digits)):\n",
        "  pw = digits[idx]\n",
        "  encoded_pw = str(pw[0]) + str(pw[1]) + str(pw[2]) + str(pw[3]) + str(pw[4]) + str(pw[5])\n",
        "  hashed_passwords.append(hashlib.md5(encoded_pw.encode('ASCII')).hexdigest())"
      ],
      "metadata": {
        "id": "0zLBWjVf0hEw"
      },
      "execution_count": 91,
      "outputs": []
    },
    {
      "cell_type": "code",
      "source": [
        "hashed_passwords[0:6]"
      ],
      "metadata": {
        "colab": {
          "base_uri": "https://localhost:8080/"
        },
        "id": "6zpT5yjg0lCU",
        "outputId": "16305144-8f2e-4901-ef11-399efba86728"
      },
      "execution_count": 92,
      "outputs": [
        {
          "output_type": "execute_result",
          "data": {
            "text/plain": [
              "['472bed188a28e6c46589dab4c0df8ba4',\n",
              " '4a9474ef974e36af55f2f568a86324fe',\n",
              " '18bc85f73aeddd4732e9c258760d1c6c',\n",
              " 'da47ed44413c0cf8d7c31fe43c4df043',\n",
              " '3e32d5a70fbbe4e7b0650016d2b1e618',\n",
              " '5ba4e9bf3f7ad9ede42f85e33e1a2551']"
            ]
          },
          "metadata": {},
          "execution_count": 92
        }
      ]
    },
    {
      "cell_type": "markdown",
      "source": [
        "### Prepare address + country"
      ],
      "metadata": {
        "id": "d-2EbUnO1Gj0"
      }
    },
    {
      "cell_type": "markdown",
      "source": [
        "* #### The data for USA states can be found here : https://github.com/kristw/gridmap-layout-thailand/blob/master/src/input/provinces.csv\n",
        "\n",
        "* #### The data for thailand provinces can be found here : https://docs.google.com/spreadsheets/d/14wvnQygIX1eCVo7H5B7a96W1v5VCg6Q9yeRoESF6epw/edit?gid=0#gid=0\n",
        "\n",
        "* #### The data for japan provinces can be found here : https://github.com/nobuf/list-of-cities-in-japan/blob/master/build/prefectures.csv\n",
        "\n",
        "* #### the street address is generated with Chat GPT (I could find a way to mass generate the street address) see \"street_address.csv\"\n"
      ],
      "metadata": {
        "id": "EldZ8itY2j8U"
      }
    },
    {
      "cell_type": "code",
      "source": [
        "#address include\n",
        "# Street address\n",
        "# zip code\n",
        "# city/state\n",
        "# phone\n",
        "\n",
        "USA_states_df = pd.read_csv('50 states and abbreviations.csv')\n",
        "THAI_provinces_df = pd.read_csv('provinces.csv')\n",
        "JAPAN_provinces_df = pd.read_csv('prefectures.csv')\n",
        "street_df = pd.read_csv('street_address.csv') # incldue zipcode"
      ],
      "metadata": {
        "id": "b_1E8FDaySU5"
      },
      "execution_count": 121,
      "outputs": []
    },
    {
      "cell_type": "code",
      "source": [
        "# sampling 20\n",
        "sample_USA_state = USA_states_df['State'].sample(7).values\n",
        "sample_THAI_prov = THAI_provinces_df['enName'].sample(7).values\n",
        "sample_JAPAN_prov = JAPAN_provinces_df['prefecture_en'].sample(6).values\n",
        "# for JAPAN province, the city comes with 'city_name prefecture' so we need to remove it\n",
        "sample_JAPAN_prov = [jp.split(' ')[0] for jp in sample_JAPAN_prov]\n",
        "sample_city = [*sample_USA_state,*sample_THAI_prov,*sample_JAPAN_prov]\n",
        "sample_street_address_indices = street_df.sample(20).index\n",
        "street_address = street_df.loc[sample_street_address_indices,'Address'].values\n",
        "zip_code = street_df.loc[sample_street_address_indices,' ZIP Code'].values\n",
        "final_address = []\n",
        "\n",
        "# we know first 7 entries are USA and next 7 entries are THAI and last 6 are JAPAN\n",
        "country = []\n",
        "for i in range(0,7):\n",
        "  country.append('USA')\n",
        "for i in range(0,7):\n",
        "  country.append('Thai')\n",
        "for i in range(0,6):\n",
        "  country.append('Japan')\n",
        "\n",
        "for idx in range(0,20):\n",
        "  final_address.append(street_address[idx] + ' ' + str(zip_code[idx]) + ' '+sample_city[idx])\n"
      ],
      "metadata": {
        "id": "5CXP-ZrU5OJ0"
      },
      "execution_count": 122,
      "outputs": []
    },
    {
      "cell_type": "code",
      "source": [
        "final_address[:6]"
      ],
      "metadata": {
        "colab": {
          "base_uri": "https://localhost:8080/"
        },
        "id": "bdOEU9ZT8K-C",
        "outputId": "fb4d9686-21bf-4af9-9c3a-374a83c6d657"
      },
      "execution_count": 123,
      "outputs": [
        {
          "output_type": "execute_result",
          "data": {
            "text/plain": [
              "['456 Willow Court 2101 Arizona',\n",
              " '468 Willow Road 94203 Maine',\n",
              " '246 Oakwood Circle 98102 Tennessee',\n",
              " '567 Pine Terrace 85006 Illinois',\n",
              " '890 Willow Way 85001 Iowa',\n",
              " '680 Cedar Boulevard 55101 California']"
            ]
          },
          "metadata": {},
          "execution_count": 123
        }
      ]
    },
    {
      "cell_type": "markdown",
      "source": [
        "### Prepare names"
      ],
      "metadata": {
        "id": "YaOnpJo933eW"
      }
    },
    {
      "cell_type": "code",
      "source": [
        "fname_list = ['Eloise','Marie','Beatrice','Isla',\n",
        "             'Ellen','Margaret','Maisie','Heidi',\n",
        "              'Lily','Sara','Ben','Brandon','Justin','Steve',\n",
        "             'Leonard','Muhammed','Declan','Ewan',\n",
        "              'Hugo','Steven']\n",
        "\n",
        "lname_list = ['Castaneda','Williams','Bull','Coles',\n",
        "              'Whittaker','Rees','Peters','Brewer',\n",
        "              'Goodwin','Russell','Rawlings','Singh',\n",
        "              'Butler','Clark','Ward','Cross',\n",
        "              'Connor','Carlson','Tate','Gilbert',]\n",
        "\n",
        "# possible name combination is 400 names\n",
        "all_possible_name = [(f + ' ' + l) for f in fname_list for l in lname_list]\n",
        "all_possible_name[0:6]"
      ],
      "metadata": {
        "colab": {
          "base_uri": "https://localhost:8080/"
        },
        "id": "6VHEVaWTqmAN",
        "outputId": "2c632960-2996-4fcf-a95e-efd5beb2464c"
      },
      "execution_count": 81,
      "outputs": [
        {
          "output_type": "execute_result",
          "data": {
            "text/plain": [
              "['Eloise Castaneda',\n",
              " 'Eloise Williams',\n",
              " 'Eloise Bull',\n",
              " 'Eloise Coles',\n",
              " 'Eloise Whittaker',\n",
              " 'Eloise Rees']"
            ]
          },
          "metadata": {},
          "execution_count": 81
        }
      ]
    },
    {
      "cell_type": "code",
      "source": [
        "# sampling 25 names from 400 name\n",
        "sample_names = []\n",
        "name_indices = np.random.random_integers(0,400,20)\n",
        "for ni in name_indices:\n",
        "  sample_names.append(all_possible_name[ni])"
      ],
      "metadata": {
        "colab": {
          "base_uri": "https://localhost:8080/"
        },
        "id": "fEOQjH3xsXyh",
        "outputId": "63a7a3f6-7bfe-4589-a413-d5eebe302ffa"
      },
      "execution_count": 82,
      "outputs": [
        {
          "output_type": "stream",
          "name": "stderr",
          "text": [
            "<ipython-input-82-3aec58e77d99>:3: DeprecationWarning: This function is deprecated. Please call randint(0, 400 + 1) instead\n",
            "  name_indices = np.random.random_integers(0,400,20)\n"
          ]
        }
      ]
    },
    {
      "cell_type": "code",
      "source": [
        "sample_names[0:6]"
      ],
      "metadata": {
        "colab": {
          "base_uri": "https://localhost:8080/"
        },
        "id": "wgsHpASautN3",
        "outputId": "487facd3-a97d-41a0-cdb7-bb5419c98ae6"
      },
      "execution_count": 83,
      "outputs": [
        {
          "output_type": "execute_result",
          "data": {
            "text/plain": [
              "['Isla Bull',\n",
              " 'Ben Tate',\n",
              " 'Margaret Ward',\n",
              " 'Lily Rawlings',\n",
              " 'Justin Coles',\n",
              " 'Muhammed Williams']"
            ]
          },
          "metadata": {},
          "execution_count": 83
        }
      ]
    },
    {
      "cell_type": "markdown",
      "source": [
        "### prepare Email"
      ],
      "metadata": {
        "id": "PHbEngFCBO9U"
      }
    },
    {
      "cell_type": "code",
      "source": [
        "# format fname.lname@gmail.com\n",
        "def first_alph(text):\n",
        "  if (len(text) < 4):\n",
        "    text[0:len(text)]\n",
        "  else:\n",
        "    return text[0:4]\n",
        "\n",
        "emails = []\n",
        "for name in sample_names:\n",
        "  fname,lname = name.split(' ')\n",
        "  # using full fname\n",
        "  # using 4 alphabet of lname\n",
        "  emails.append(fname + '.' + first_alph(lname) + '@gmail.com')"
      ],
      "metadata": {
        "id": "-gPCFJ5DBsnA"
      },
      "execution_count": 100,
      "outputs": []
    },
    {
      "cell_type": "markdown",
      "source": [
        "### prepare phone number"
      ],
      "metadata": {
        "id": "sJq7Ib8oDdh2"
      }
    },
    {
      "cell_type": "code",
      "source": [
        "def gen_phone():\n",
        "  first = str(random.randint(100,999))\n",
        "  second = str(random.randint(100,888))\n",
        "  last = str(random.randint(1,9998))\n",
        "  return f'{first}-{second}-{last}'\n",
        "\n",
        "phone = []\n",
        "for i in range(0,20):\n",
        "  phone.append(gen_phone())"
      ],
      "metadata": {
        "id": "mA6H5nOkDfAU"
      },
      "execution_count": 108,
      "outputs": []
    },
    {
      "cell_type": "code",
      "source": [
        "phone[:5]"
      ],
      "metadata": {
        "colab": {
          "base_uri": "https://localhost:8080/"
        },
        "id": "cCvaIX2LD4La",
        "outputId": "337dad75-f339-4bf7-e453-16856e2e62ad"
      },
      "execution_count": 109,
      "outputs": [
        {
          "output_type": "execute_result",
          "data": {
            "text/plain": [
              "['714-676-1997', '552-870-432', '341-794-635', '185-576-9108', '440-591-2064']"
            ]
          },
          "metadata": {},
          "execution_count": 109
        }
      ]
    },
    {
      "cell_type": "markdown",
      "source": [
        "### prepare login_verification_method"
      ],
      "metadata": {
        "id": "AHBnlkYYEMyd"
      }
    },
    {
      "cell_type": "code",
      "source": [
        "login_verf_method = ['OTP','device','Email']\n",
        "random_lvf = []\n",
        "for i in range(0,20):\n",
        "  random_lvf.append(login_verf_method[random.randint(0,2)])"
      ],
      "metadata": {
        "id": "g8q16PKFEQy1"
      },
      "execution_count": 114,
      "outputs": []
    },
    {
      "cell_type": "code",
      "source": [
        "random_lvf[:5]"
      ],
      "metadata": {
        "colab": {
          "base_uri": "https://localhost:8080/"
        },
        "id": "0c6JLPKkFJVF",
        "outputId": "8cbc3587-64b1-420d-fa3d-2797c0eae147"
      },
      "execution_count": 116,
      "outputs": [
        {
          "output_type": "execute_result",
          "data": {
            "text/plain": [
              "['OTP', 'OTP', 'device', 'device', 'Email']"
            ]
          },
          "metadata": {},
          "execution_count": 116
        }
      ]
    },
    {
      "cell_type": "markdown",
      "source": [
        "# Assembling data to Account df"
      ],
      "metadata": {
        "id": "Tay__5PzzCLN"
      }
    },
    {
      "cell_type": "code",
      "source": [
        "Account_df = pd.DataFrame([],columns = ['Account_ID','Email','Phone_number',\n",
        "                                        'Login_verification_method','country','name',\n",
        "                                        'address','password'])"
      ],
      "metadata": {
        "id": "dfvuzyv-3xEk"
      },
      "execution_count": 117,
      "outputs": []
    },
    {
      "cell_type": "code",
      "source": [
        "Account_df['Account_ID'] = pd.Series(list(range(10000,10020)))\n",
        "Account_df['name'] = pd.Series(sample_names)\n",
        "Account_df['address'] = pd.Series(final_address)\n",
        "Account_df['password'] = pd.Series(hashed_passwords)\n",
        "Account_df['country'] = pd.Series(country)\n",
        "Account_df['Email'] = pd.Series(emails)\n",
        "Account_df['Phone_number'] = pd.Series(phone)\n",
        "Account_df['Login_verification_method'] = pd.Series(random_lvf)"
      ],
      "metadata": {
        "id": "WVyB0GVKpusc"
      },
      "execution_count": 124,
      "outputs": []
    },
    {
      "cell_type": "code",
      "source": [
        "Account_df"
      ],
      "metadata": {
        "colab": {
          "base_uri": "https://localhost:8080/",
          "height": 676
        },
        "id": "LUUlczb2qGPj",
        "outputId": "d0c95917-a2aa-413e-e0c8-759fcdecc327"
      },
      "execution_count": 125,
      "outputs": [
        {
          "output_type": "execute_result",
          "data": {
            "text/plain": [
              "    Account_ID                    Email  Phone_number  \\\n",
              "0        10000      Isla.Bull@gmail.com  714-676-1997   \n",
              "1        10001       Ben.Tate@gmail.com   552-870-432   \n",
              "2        10002  Margaret.Ward@gmail.com   341-794-635   \n",
              "3        10003      Lily.Rawl@gmail.com  185-576-9108   \n",
              "4        10004    Justin.Cole@gmail.com  440-591-2064   \n",
              "5        10005  Muhammed.Will@gmail.com  382-157-2752   \n",
              "6        10006      Isla.Brew@gmail.com  443-681-1963   \n",
              "7        10007  Beatrice.Cole@gmail.com  771-341-1828   \n",
              "8        10008     Steve.Good@gmail.com  537-364-5442   \n",
              "9        10009    Eloise.Carl@gmail.com  351-801-1972   \n",
              "10       10010      Hugo.Butl@gmail.com  442-709-4212   \n",
              "11       10011      Lily.Ward@gmail.com  575-231-5703   \n",
              "12       10012    Declan.Bull@gmail.com  175-164-2516   \n",
              "13       10013  Beatrice.Sing@gmail.com  721-612-1722   \n",
              "14       10014      Hugo.Clar@gmail.com  253-500-2881   \n",
              "15       10015      Isla.Sing@gmail.com  936-185-7035   \n",
              "16       10016      Hugo.Pete@gmail.com  478-252-9182   \n",
              "17       10017     Heidi.Sing@gmail.com  550-445-7785   \n",
              "18       10018     Ellen.Carl@gmail.com  625-338-5795   \n",
              "19       10019  Beatrice.Ward@gmail.com  390-527-9522   \n",
              "\n",
              "   Login_verification_method country               name  \\\n",
              "0                        OTP     USA          Isla Bull   \n",
              "1                        OTP     USA           Ben Tate   \n",
              "2                     device     USA      Margaret Ward   \n",
              "3                     device     USA      Lily Rawlings   \n",
              "4                      Email     USA       Justin Coles   \n",
              "5                        OTP     USA  Muhammed Williams   \n",
              "6                     device     USA        Isla Brewer   \n",
              "7                      Email    Thai     Beatrice Coles   \n",
              "8                        OTP    Thai      Steve Goodwin   \n",
              "9                     device    Thai     Eloise Carlson   \n",
              "10                    device    Thai        Hugo Butler   \n",
              "11                       OTP    Thai          Lily Ward   \n",
              "12                     Email    Thai        Declan Bull   \n",
              "13                     Email    Thai     Beatrice Singh   \n",
              "14                       OTP   Japan         Hugo Clark   \n",
              "15                    device   Japan         Isla Singh   \n",
              "16                       OTP   Japan        Hugo Peters   \n",
              "17                    device   Japan        Heidi Singh   \n",
              "18                    device   Japan      Ellen Carlson   \n",
              "19                    device   Japan      Beatrice Ward   \n",
              "\n",
              "                                  address                          password  \n",
              "0           456 Willow Court 2101 Arizona  472bed188a28e6c46589dab4c0df8ba4  \n",
              "1             468 Willow Road 94203 Maine  4a9474ef974e36af55f2f568a86324fe  \n",
              "2      246 Oakwood Circle 98102 Tennessee  18bc85f73aeddd4732e9c258760d1c6c  \n",
              "3         567 Pine Terrace 85006 Illinois  da47ed44413c0cf8d7c31fe43c4df043  \n",
              "4               890 Willow Way 85001 Iowa  3e32d5a70fbbe4e7b0650016d2b1e618  \n",
              "5    680 Cedar Boulevard 55101 California  5ba4e9bf3f7ad9ede42f85e33e1a2551  \n",
              "6       890 Pine Boulevard 85002 Delaware  6bae9029ccbbabae3c83a308812b745a  \n",
              "7             567 Oak Drive 23223 ChaiNat  21f12674d3983855f314b0fc73b5cb1d  \n",
              "8         579 Oakwood Avenue 85004 Ranong  c7d9eec068f0c0e67bb800f1ac4e0569  \n",
              "9   357 Pine Hill Road 98101 AmnatCharoen  cedf8ec702a7fbdea44f592d2c14238a  \n",
              "10           246 Birch Path 23220 Kalasin  b4b525eaa0d7f8c9e31eee362b5f2ee7  \n",
              "11       678 Willow Avenue 98104 Mukdahan  684fb0d40748126f20af62e324fe3c95  \n",
              "12       791 Oakwood Boulevard 97205 Loei  55b8f7b7ab66b94fae1191caf2f29f60  \n",
              "13          567 Cedar Lane 33101 KhonKaen  0f9f463c3bca9d99b8e1a9cbe72de014  \n",
              "14       234 Willow Circle 37202 Nagasaki  25e89fd3434ba19ef0bbedbe4e745e66  \n",
              "15      357 Pine Boulevard 23222 Kumamoto  9101a5eb96b265db588d6d6c73ba8a5c  \n",
              "16             678 Maple Drive 63101 Gifu  a226dc83a082dc2ba244600b33f68d49  \n",
              "17         678 Cedar Street 63103 Tochigi  973fea1cbc6b47bb762744ca6e03bde6  \n",
              "18              123 Maple Way 33601 Iwate  a57baa0f84cac878e914e3a94ebfbef6  \n",
              "19      456 Willow Crescent 32804 Ibaraki  de06c7a5f5a02fa1dade07c773ace5ec  "
            ],
            "text/html": [
              "\n",
              "  <div id=\"df-04cfda27-8213-4124-bf5b-bbc4a5ff5464\" class=\"colab-df-container\">\n",
              "    <div>\n",
              "<style scoped>\n",
              "    .dataframe tbody tr th:only-of-type {\n",
              "        vertical-align: middle;\n",
              "    }\n",
              "\n",
              "    .dataframe tbody tr th {\n",
              "        vertical-align: top;\n",
              "    }\n",
              "\n",
              "    .dataframe thead th {\n",
              "        text-align: right;\n",
              "    }\n",
              "</style>\n",
              "<table border=\"1\" class=\"dataframe\">\n",
              "  <thead>\n",
              "    <tr style=\"text-align: right;\">\n",
              "      <th></th>\n",
              "      <th>Account_ID</th>\n",
              "      <th>Email</th>\n",
              "      <th>Phone_number</th>\n",
              "      <th>Login_verification_method</th>\n",
              "      <th>country</th>\n",
              "      <th>name</th>\n",
              "      <th>address</th>\n",
              "      <th>password</th>\n",
              "    </tr>\n",
              "  </thead>\n",
              "  <tbody>\n",
              "    <tr>\n",
              "      <th>0</th>\n",
              "      <td>10000</td>\n",
              "      <td>Isla.Bull@gmail.com</td>\n",
              "      <td>714-676-1997</td>\n",
              "      <td>OTP</td>\n",
              "      <td>USA</td>\n",
              "      <td>Isla Bull</td>\n",
              "      <td>456 Willow Court 2101 Arizona</td>\n",
              "      <td>472bed188a28e6c46589dab4c0df8ba4</td>\n",
              "    </tr>\n",
              "    <tr>\n",
              "      <th>1</th>\n",
              "      <td>10001</td>\n",
              "      <td>Ben.Tate@gmail.com</td>\n",
              "      <td>552-870-432</td>\n",
              "      <td>OTP</td>\n",
              "      <td>USA</td>\n",
              "      <td>Ben Tate</td>\n",
              "      <td>468 Willow Road 94203 Maine</td>\n",
              "      <td>4a9474ef974e36af55f2f568a86324fe</td>\n",
              "    </tr>\n",
              "    <tr>\n",
              "      <th>2</th>\n",
              "      <td>10002</td>\n",
              "      <td>Margaret.Ward@gmail.com</td>\n",
              "      <td>341-794-635</td>\n",
              "      <td>device</td>\n",
              "      <td>USA</td>\n",
              "      <td>Margaret Ward</td>\n",
              "      <td>246 Oakwood Circle 98102 Tennessee</td>\n",
              "      <td>18bc85f73aeddd4732e9c258760d1c6c</td>\n",
              "    </tr>\n",
              "    <tr>\n",
              "      <th>3</th>\n",
              "      <td>10003</td>\n",
              "      <td>Lily.Rawl@gmail.com</td>\n",
              "      <td>185-576-9108</td>\n",
              "      <td>device</td>\n",
              "      <td>USA</td>\n",
              "      <td>Lily Rawlings</td>\n",
              "      <td>567 Pine Terrace 85006 Illinois</td>\n",
              "      <td>da47ed44413c0cf8d7c31fe43c4df043</td>\n",
              "    </tr>\n",
              "    <tr>\n",
              "      <th>4</th>\n",
              "      <td>10004</td>\n",
              "      <td>Justin.Cole@gmail.com</td>\n",
              "      <td>440-591-2064</td>\n",
              "      <td>Email</td>\n",
              "      <td>USA</td>\n",
              "      <td>Justin Coles</td>\n",
              "      <td>890 Willow Way 85001 Iowa</td>\n",
              "      <td>3e32d5a70fbbe4e7b0650016d2b1e618</td>\n",
              "    </tr>\n",
              "    <tr>\n",
              "      <th>5</th>\n",
              "      <td>10005</td>\n",
              "      <td>Muhammed.Will@gmail.com</td>\n",
              "      <td>382-157-2752</td>\n",
              "      <td>OTP</td>\n",
              "      <td>USA</td>\n",
              "      <td>Muhammed Williams</td>\n",
              "      <td>680 Cedar Boulevard 55101 California</td>\n",
              "      <td>5ba4e9bf3f7ad9ede42f85e33e1a2551</td>\n",
              "    </tr>\n",
              "    <tr>\n",
              "      <th>6</th>\n",
              "      <td>10006</td>\n",
              "      <td>Isla.Brew@gmail.com</td>\n",
              "      <td>443-681-1963</td>\n",
              "      <td>device</td>\n",
              "      <td>USA</td>\n",
              "      <td>Isla Brewer</td>\n",
              "      <td>890 Pine Boulevard 85002 Delaware</td>\n",
              "      <td>6bae9029ccbbabae3c83a308812b745a</td>\n",
              "    </tr>\n",
              "    <tr>\n",
              "      <th>7</th>\n",
              "      <td>10007</td>\n",
              "      <td>Beatrice.Cole@gmail.com</td>\n",
              "      <td>771-341-1828</td>\n",
              "      <td>Email</td>\n",
              "      <td>Thai</td>\n",
              "      <td>Beatrice Coles</td>\n",
              "      <td>567 Oak Drive 23223 ChaiNat</td>\n",
              "      <td>21f12674d3983855f314b0fc73b5cb1d</td>\n",
              "    </tr>\n",
              "    <tr>\n",
              "      <th>8</th>\n",
              "      <td>10008</td>\n",
              "      <td>Steve.Good@gmail.com</td>\n",
              "      <td>537-364-5442</td>\n",
              "      <td>OTP</td>\n",
              "      <td>Thai</td>\n",
              "      <td>Steve Goodwin</td>\n",
              "      <td>579 Oakwood Avenue 85004 Ranong</td>\n",
              "      <td>c7d9eec068f0c0e67bb800f1ac4e0569</td>\n",
              "    </tr>\n",
              "    <tr>\n",
              "      <th>9</th>\n",
              "      <td>10009</td>\n",
              "      <td>Eloise.Carl@gmail.com</td>\n",
              "      <td>351-801-1972</td>\n",
              "      <td>device</td>\n",
              "      <td>Thai</td>\n",
              "      <td>Eloise Carlson</td>\n",
              "      <td>357 Pine Hill Road 98101 AmnatCharoen</td>\n",
              "      <td>cedf8ec702a7fbdea44f592d2c14238a</td>\n",
              "    </tr>\n",
              "    <tr>\n",
              "      <th>10</th>\n",
              "      <td>10010</td>\n",
              "      <td>Hugo.Butl@gmail.com</td>\n",
              "      <td>442-709-4212</td>\n",
              "      <td>device</td>\n",
              "      <td>Thai</td>\n",
              "      <td>Hugo Butler</td>\n",
              "      <td>246 Birch Path 23220 Kalasin</td>\n",
              "      <td>b4b525eaa0d7f8c9e31eee362b5f2ee7</td>\n",
              "    </tr>\n",
              "    <tr>\n",
              "      <th>11</th>\n",
              "      <td>10011</td>\n",
              "      <td>Lily.Ward@gmail.com</td>\n",
              "      <td>575-231-5703</td>\n",
              "      <td>OTP</td>\n",
              "      <td>Thai</td>\n",
              "      <td>Lily Ward</td>\n",
              "      <td>678 Willow Avenue 98104 Mukdahan</td>\n",
              "      <td>684fb0d40748126f20af62e324fe3c95</td>\n",
              "    </tr>\n",
              "    <tr>\n",
              "      <th>12</th>\n",
              "      <td>10012</td>\n",
              "      <td>Declan.Bull@gmail.com</td>\n",
              "      <td>175-164-2516</td>\n",
              "      <td>Email</td>\n",
              "      <td>Thai</td>\n",
              "      <td>Declan Bull</td>\n",
              "      <td>791 Oakwood Boulevard 97205 Loei</td>\n",
              "      <td>55b8f7b7ab66b94fae1191caf2f29f60</td>\n",
              "    </tr>\n",
              "    <tr>\n",
              "      <th>13</th>\n",
              "      <td>10013</td>\n",
              "      <td>Beatrice.Sing@gmail.com</td>\n",
              "      <td>721-612-1722</td>\n",
              "      <td>Email</td>\n",
              "      <td>Thai</td>\n",
              "      <td>Beatrice Singh</td>\n",
              "      <td>567 Cedar Lane 33101 KhonKaen</td>\n",
              "      <td>0f9f463c3bca9d99b8e1a9cbe72de014</td>\n",
              "    </tr>\n",
              "    <tr>\n",
              "      <th>14</th>\n",
              "      <td>10014</td>\n",
              "      <td>Hugo.Clar@gmail.com</td>\n",
              "      <td>253-500-2881</td>\n",
              "      <td>OTP</td>\n",
              "      <td>Japan</td>\n",
              "      <td>Hugo Clark</td>\n",
              "      <td>234 Willow Circle 37202 Nagasaki</td>\n",
              "      <td>25e89fd3434ba19ef0bbedbe4e745e66</td>\n",
              "    </tr>\n",
              "    <tr>\n",
              "      <th>15</th>\n",
              "      <td>10015</td>\n",
              "      <td>Isla.Sing@gmail.com</td>\n",
              "      <td>936-185-7035</td>\n",
              "      <td>device</td>\n",
              "      <td>Japan</td>\n",
              "      <td>Isla Singh</td>\n",
              "      <td>357 Pine Boulevard 23222 Kumamoto</td>\n",
              "      <td>9101a5eb96b265db588d6d6c73ba8a5c</td>\n",
              "    </tr>\n",
              "    <tr>\n",
              "      <th>16</th>\n",
              "      <td>10016</td>\n",
              "      <td>Hugo.Pete@gmail.com</td>\n",
              "      <td>478-252-9182</td>\n",
              "      <td>OTP</td>\n",
              "      <td>Japan</td>\n",
              "      <td>Hugo Peters</td>\n",
              "      <td>678 Maple Drive 63101 Gifu</td>\n",
              "      <td>a226dc83a082dc2ba244600b33f68d49</td>\n",
              "    </tr>\n",
              "    <tr>\n",
              "      <th>17</th>\n",
              "      <td>10017</td>\n",
              "      <td>Heidi.Sing@gmail.com</td>\n",
              "      <td>550-445-7785</td>\n",
              "      <td>device</td>\n",
              "      <td>Japan</td>\n",
              "      <td>Heidi Singh</td>\n",
              "      <td>678 Cedar Street 63103 Tochigi</td>\n",
              "      <td>973fea1cbc6b47bb762744ca6e03bde6</td>\n",
              "    </tr>\n",
              "    <tr>\n",
              "      <th>18</th>\n",
              "      <td>10018</td>\n",
              "      <td>Ellen.Carl@gmail.com</td>\n",
              "      <td>625-338-5795</td>\n",
              "      <td>device</td>\n",
              "      <td>Japan</td>\n",
              "      <td>Ellen Carlson</td>\n",
              "      <td>123 Maple Way 33601 Iwate</td>\n",
              "      <td>a57baa0f84cac878e914e3a94ebfbef6</td>\n",
              "    </tr>\n",
              "    <tr>\n",
              "      <th>19</th>\n",
              "      <td>10019</td>\n",
              "      <td>Beatrice.Ward@gmail.com</td>\n",
              "      <td>390-527-9522</td>\n",
              "      <td>device</td>\n",
              "      <td>Japan</td>\n",
              "      <td>Beatrice Ward</td>\n",
              "      <td>456 Willow Crescent 32804 Ibaraki</td>\n",
              "      <td>de06c7a5f5a02fa1dade07c773ace5ec</td>\n",
              "    </tr>\n",
              "  </tbody>\n",
              "</table>\n",
              "</div>\n",
              "    <div class=\"colab-df-buttons\">\n",
              "\n",
              "  <div class=\"colab-df-container\">\n",
              "    <button class=\"colab-df-convert\" onclick=\"convertToInteractive('df-04cfda27-8213-4124-bf5b-bbc4a5ff5464')\"\n",
              "            title=\"Convert this dataframe to an interactive table.\"\n",
              "            style=\"display:none;\">\n",
              "\n",
              "  <svg xmlns=\"http://www.w3.org/2000/svg\" height=\"24px\" viewBox=\"0 -960 960 960\">\n",
              "    <path d=\"M120-120v-720h720v720H120Zm60-500h600v-160H180v160Zm220 220h160v-160H400v160Zm0 220h160v-160H400v160ZM180-400h160v-160H180v160Zm440 0h160v-160H620v160ZM180-180h160v-160H180v160Zm440 0h160v-160H620v160Z\"/>\n",
              "  </svg>\n",
              "    </button>\n",
              "\n",
              "  <style>\n",
              "    .colab-df-container {\n",
              "      display:flex;\n",
              "      gap: 12px;\n",
              "    }\n",
              "\n",
              "    .colab-df-convert {\n",
              "      background-color: #E8F0FE;\n",
              "      border: none;\n",
              "      border-radius: 50%;\n",
              "      cursor: pointer;\n",
              "      display: none;\n",
              "      fill: #1967D2;\n",
              "      height: 32px;\n",
              "      padding: 0 0 0 0;\n",
              "      width: 32px;\n",
              "    }\n",
              "\n",
              "    .colab-df-convert:hover {\n",
              "      background-color: #E2EBFA;\n",
              "      box-shadow: 0px 1px 2px rgba(60, 64, 67, 0.3), 0px 1px 3px 1px rgba(60, 64, 67, 0.15);\n",
              "      fill: #174EA6;\n",
              "    }\n",
              "\n",
              "    .colab-df-buttons div {\n",
              "      margin-bottom: 4px;\n",
              "    }\n",
              "\n",
              "    [theme=dark] .colab-df-convert {\n",
              "      background-color: #3B4455;\n",
              "      fill: #D2E3FC;\n",
              "    }\n",
              "\n",
              "    [theme=dark] .colab-df-convert:hover {\n",
              "      background-color: #434B5C;\n",
              "      box-shadow: 0px 1px 3px 1px rgba(0, 0, 0, 0.15);\n",
              "      filter: drop-shadow(0px 1px 2px rgba(0, 0, 0, 0.3));\n",
              "      fill: #FFFFFF;\n",
              "    }\n",
              "  </style>\n",
              "\n",
              "    <script>\n",
              "      const buttonEl =\n",
              "        document.querySelector('#df-04cfda27-8213-4124-bf5b-bbc4a5ff5464 button.colab-df-convert');\n",
              "      buttonEl.style.display =\n",
              "        google.colab.kernel.accessAllowed ? 'block' : 'none';\n",
              "\n",
              "      async function convertToInteractive(key) {\n",
              "        const element = document.querySelector('#df-04cfda27-8213-4124-bf5b-bbc4a5ff5464');\n",
              "        const dataTable =\n",
              "          await google.colab.kernel.invokeFunction('convertToInteractive',\n",
              "                                                    [key], {});\n",
              "        if (!dataTable) return;\n",
              "\n",
              "        const docLinkHtml = 'Like what you see? Visit the ' +\n",
              "          '<a target=\"_blank\" href=https://colab.research.google.com/notebooks/data_table.ipynb>data table notebook</a>'\n",
              "          + ' to learn more about interactive tables.';\n",
              "        element.innerHTML = '';\n",
              "        dataTable['output_type'] = 'display_data';\n",
              "        await google.colab.output.renderOutput(dataTable, element);\n",
              "        const docLink = document.createElement('div');\n",
              "        docLink.innerHTML = docLinkHtml;\n",
              "        element.appendChild(docLink);\n",
              "      }\n",
              "    </script>\n",
              "  </div>\n",
              "\n",
              "\n",
              "<div id=\"df-6bd5f0f5-9895-40a6-a9b1-8d7ad37bbb99\">\n",
              "  <button class=\"colab-df-quickchart\" onclick=\"quickchart('df-6bd5f0f5-9895-40a6-a9b1-8d7ad37bbb99')\"\n",
              "            title=\"Suggest charts\"\n",
              "            style=\"display:none;\">\n",
              "\n",
              "<svg xmlns=\"http://www.w3.org/2000/svg\" height=\"24px\"viewBox=\"0 0 24 24\"\n",
              "     width=\"24px\">\n",
              "    <g>\n",
              "        <path d=\"M19 3H5c-1.1 0-2 .9-2 2v14c0 1.1.9 2 2 2h14c1.1 0 2-.9 2-2V5c0-1.1-.9-2-2-2zM9 17H7v-7h2v7zm4 0h-2V7h2v10zm4 0h-2v-4h2v4z\"/>\n",
              "    </g>\n",
              "</svg>\n",
              "  </button>\n",
              "\n",
              "<style>\n",
              "  .colab-df-quickchart {\n",
              "      --bg-color: #E8F0FE;\n",
              "      --fill-color: #1967D2;\n",
              "      --hover-bg-color: #E2EBFA;\n",
              "      --hover-fill-color: #174EA6;\n",
              "      --disabled-fill-color: #AAA;\n",
              "      --disabled-bg-color: #DDD;\n",
              "  }\n",
              "\n",
              "  [theme=dark] .colab-df-quickchart {\n",
              "      --bg-color: #3B4455;\n",
              "      --fill-color: #D2E3FC;\n",
              "      --hover-bg-color: #434B5C;\n",
              "      --hover-fill-color: #FFFFFF;\n",
              "      --disabled-bg-color: #3B4455;\n",
              "      --disabled-fill-color: #666;\n",
              "  }\n",
              "\n",
              "  .colab-df-quickchart {\n",
              "    background-color: var(--bg-color);\n",
              "    border: none;\n",
              "    border-radius: 50%;\n",
              "    cursor: pointer;\n",
              "    display: none;\n",
              "    fill: var(--fill-color);\n",
              "    height: 32px;\n",
              "    padding: 0;\n",
              "    width: 32px;\n",
              "  }\n",
              "\n",
              "  .colab-df-quickchart:hover {\n",
              "    background-color: var(--hover-bg-color);\n",
              "    box-shadow: 0 1px 2px rgba(60, 64, 67, 0.3), 0 1px 3px 1px rgba(60, 64, 67, 0.15);\n",
              "    fill: var(--button-hover-fill-color);\n",
              "  }\n",
              "\n",
              "  .colab-df-quickchart-complete:disabled,\n",
              "  .colab-df-quickchart-complete:disabled:hover {\n",
              "    background-color: var(--disabled-bg-color);\n",
              "    fill: var(--disabled-fill-color);\n",
              "    box-shadow: none;\n",
              "  }\n",
              "\n",
              "  .colab-df-spinner {\n",
              "    border: 2px solid var(--fill-color);\n",
              "    border-color: transparent;\n",
              "    border-bottom-color: var(--fill-color);\n",
              "    animation:\n",
              "      spin 1s steps(1) infinite;\n",
              "  }\n",
              "\n",
              "  @keyframes spin {\n",
              "    0% {\n",
              "      border-color: transparent;\n",
              "      border-bottom-color: var(--fill-color);\n",
              "      border-left-color: var(--fill-color);\n",
              "    }\n",
              "    20% {\n",
              "      border-color: transparent;\n",
              "      border-left-color: var(--fill-color);\n",
              "      border-top-color: var(--fill-color);\n",
              "    }\n",
              "    30% {\n",
              "      border-color: transparent;\n",
              "      border-left-color: var(--fill-color);\n",
              "      border-top-color: var(--fill-color);\n",
              "      border-right-color: var(--fill-color);\n",
              "    }\n",
              "    40% {\n",
              "      border-color: transparent;\n",
              "      border-right-color: var(--fill-color);\n",
              "      border-top-color: var(--fill-color);\n",
              "    }\n",
              "    60% {\n",
              "      border-color: transparent;\n",
              "      border-right-color: var(--fill-color);\n",
              "    }\n",
              "    80% {\n",
              "      border-color: transparent;\n",
              "      border-right-color: var(--fill-color);\n",
              "      border-bottom-color: var(--fill-color);\n",
              "    }\n",
              "    90% {\n",
              "      border-color: transparent;\n",
              "      border-bottom-color: var(--fill-color);\n",
              "    }\n",
              "  }\n",
              "</style>\n",
              "\n",
              "  <script>\n",
              "    async function quickchart(key) {\n",
              "      const quickchartButtonEl =\n",
              "        document.querySelector('#' + key + ' button');\n",
              "      quickchartButtonEl.disabled = true;  // To prevent multiple clicks.\n",
              "      quickchartButtonEl.classList.add('colab-df-spinner');\n",
              "      try {\n",
              "        const charts = await google.colab.kernel.invokeFunction(\n",
              "            'suggestCharts', [key], {});\n",
              "      } catch (error) {\n",
              "        console.error('Error during call to suggestCharts:', error);\n",
              "      }\n",
              "      quickchartButtonEl.classList.remove('colab-df-spinner');\n",
              "      quickchartButtonEl.classList.add('colab-df-quickchart-complete');\n",
              "    }\n",
              "    (() => {\n",
              "      let quickchartButtonEl =\n",
              "        document.querySelector('#df-6bd5f0f5-9895-40a6-a9b1-8d7ad37bbb99 button');\n",
              "      quickchartButtonEl.style.display =\n",
              "        google.colab.kernel.accessAllowed ? 'block' : 'none';\n",
              "    })();\n",
              "  </script>\n",
              "</div>\n",
              "\n",
              "  <div id=\"id_b4b703b2-2f25-46c0-9ec4-5a2a8bae6e8f\">\n",
              "    <style>\n",
              "      .colab-df-generate {\n",
              "        background-color: #E8F0FE;\n",
              "        border: none;\n",
              "        border-radius: 50%;\n",
              "        cursor: pointer;\n",
              "        display: none;\n",
              "        fill: #1967D2;\n",
              "        height: 32px;\n",
              "        padding: 0 0 0 0;\n",
              "        width: 32px;\n",
              "      }\n",
              "\n",
              "      .colab-df-generate:hover {\n",
              "        background-color: #E2EBFA;\n",
              "        box-shadow: 0px 1px 2px rgba(60, 64, 67, 0.3), 0px 1px 3px 1px rgba(60, 64, 67, 0.15);\n",
              "        fill: #174EA6;\n",
              "      }\n",
              "\n",
              "      [theme=dark] .colab-df-generate {\n",
              "        background-color: #3B4455;\n",
              "        fill: #D2E3FC;\n",
              "      }\n",
              "\n",
              "      [theme=dark] .colab-df-generate:hover {\n",
              "        background-color: #434B5C;\n",
              "        box-shadow: 0px 1px 3px 1px rgba(0, 0, 0, 0.15);\n",
              "        filter: drop-shadow(0px 1px 2px rgba(0, 0, 0, 0.3));\n",
              "        fill: #FFFFFF;\n",
              "      }\n",
              "    </style>\n",
              "    <button class=\"colab-df-generate\" onclick=\"generateWithVariable('Account_df')\"\n",
              "            title=\"Generate code using this dataframe.\"\n",
              "            style=\"display:none;\">\n",
              "\n",
              "  <svg xmlns=\"http://www.w3.org/2000/svg\" height=\"24px\"viewBox=\"0 0 24 24\"\n",
              "       width=\"24px\">\n",
              "    <path d=\"M7,19H8.4L18.45,9,17,7.55,7,17.6ZM5,21V16.75L18.45,3.32a2,2,0,0,1,2.83,0l1.4,1.43a1.91,1.91,0,0,1,.58,1.4,1.91,1.91,0,0,1-.58,1.4L9.25,21ZM18.45,9,17,7.55Zm-12,3A5.31,5.31,0,0,0,4.9,8.1,5.31,5.31,0,0,0,1,6.5,5.31,5.31,0,0,0,4.9,4.9,5.31,5.31,0,0,0,6.5,1,5.31,5.31,0,0,0,8.1,4.9,5.31,5.31,0,0,0,12,6.5,5.46,5.46,0,0,0,6.5,12Z\"/>\n",
              "  </svg>\n",
              "    </button>\n",
              "    <script>\n",
              "      (() => {\n",
              "      const buttonEl =\n",
              "        document.querySelector('#id_b4b703b2-2f25-46c0-9ec4-5a2a8bae6e8f button.colab-df-generate');\n",
              "      buttonEl.style.display =\n",
              "        google.colab.kernel.accessAllowed ? 'block' : 'none';\n",
              "\n",
              "      buttonEl.onclick = () => {\n",
              "        google.colab.notebook.generateWithVariable('Account_df');\n",
              "      }\n",
              "      })();\n",
              "    </script>\n",
              "  </div>\n",
              "\n",
              "    </div>\n",
              "  </div>\n"
            ],
            "application/vnd.google.colaboratory.intrinsic+json": {
              "type": "dataframe",
              "variable_name": "Account_df",
              "summary": "{\n  \"name\": \"Account_df\",\n  \"rows\": 20,\n  \"fields\": [\n    {\n      \"column\": \"Account_ID\",\n      \"properties\": {\n        \"dtype\": \"number\",\n        \"std\": 5,\n        \"min\": 10000,\n        \"max\": 10019,\n        \"num_unique_values\": 20,\n        \"samples\": [\n          10000,\n          10017,\n          10015\n        ],\n        \"semantic_type\": \"\",\n        \"description\": \"\"\n      }\n    },\n    {\n      \"column\": \"Email\",\n      \"properties\": {\n        \"dtype\": \"string\",\n        \"num_unique_values\": 20,\n        \"samples\": [\n          \"Isla.Bull@gmail.com\",\n          \"Heidi.Sing@gmail.com\",\n          \"Isla.Sing@gmail.com\"\n        ],\n        \"semantic_type\": \"\",\n        \"description\": \"\"\n      }\n    },\n    {\n      \"column\": \"Phone_number\",\n      \"properties\": {\n        \"dtype\": \"string\",\n        \"num_unique_values\": 20,\n        \"samples\": [\n          \"714-676-1997\",\n          \"550-445-7785\",\n          \"936-185-7035\"\n        ],\n        \"semantic_type\": \"\",\n        \"description\": \"\"\n      }\n    },\n    {\n      \"column\": \"Login_verification_method\",\n      \"properties\": {\n        \"dtype\": \"category\",\n        \"num_unique_values\": 3,\n        \"samples\": [\n          \"OTP\",\n          \"device\",\n          \"Email\"\n        ],\n        \"semantic_type\": \"\",\n        \"description\": \"\"\n      }\n    },\n    {\n      \"column\": \"country\",\n      \"properties\": {\n        \"dtype\": \"category\",\n        \"num_unique_values\": 3,\n        \"samples\": [\n          \"USA\",\n          \"Thai\",\n          \"Japan\"\n        ],\n        \"semantic_type\": \"\",\n        \"description\": \"\"\n      }\n    },\n    {\n      \"column\": \"name\",\n      \"properties\": {\n        \"dtype\": \"string\",\n        \"num_unique_values\": 20,\n        \"samples\": [\n          \"Isla Bull\",\n          \"Heidi Singh\",\n          \"Isla Singh\"\n        ],\n        \"semantic_type\": \"\",\n        \"description\": \"\"\n      }\n    },\n    {\n      \"column\": \"address\",\n      \"properties\": {\n        \"dtype\": \"string\",\n        \"num_unique_values\": 20,\n        \"samples\": [\n          \"456 Willow Court 2101 Arizona\",\n          \"678 Cedar Street 63103 Tochigi\",\n          \"357 Pine Boulevard 23222 Kumamoto\"\n        ],\n        \"semantic_type\": \"\",\n        \"description\": \"\"\n      }\n    },\n    {\n      \"column\": \"password\",\n      \"properties\": {\n        \"dtype\": \"string\",\n        \"num_unique_values\": 20,\n        \"samples\": [\n          \"472bed188a28e6c46589dab4c0df8ba4\",\n          \"973fea1cbc6b47bb762744ca6e03bde6\",\n          \"9101a5eb96b265db588d6d6c73ba8a5c\"\n        ],\n        \"semantic_type\": \"\",\n        \"description\": \"\"\n      }\n    }\n  ]\n}"
            }
          },
          "metadata": {},
          "execution_count": 125
        }
      ]
    },
    {
      "cell_type": "code",
      "source": [
        "Account_df.to_csv('Apple_account.csv')"
      ],
      "metadata": {
        "id": "XCbKtEDqGEhl"
      },
      "execution_count": 126,
      "outputs": []
    },
    {
      "cell_type": "markdown",
      "source": [
        "# Prepare data for apple physical store"
      ],
      "metadata": {
        "id": "yLGmhDlZFVov"
      }
    },
    {
      "cell_type": "code",
      "source": [
        "# Apple Central World\n",
        "# 4, 4/1-4/2, 4/4 ถนนราชดำริห์\n",
        "# เขตปทุมวัน\n",
        "# กรุงเทพมหานคร 10330\n",
        "# 1800 019 448\n",
        "\n",
        "# Apple World Trade Center\n",
        "# 185 Greenwich Street\n",
        "# New York, NY 10007\n",
        "# (646) 802-3800\n",
        "\n",
        "# Apple Marina Bay Sands\n",
        "# 2 Bayfront Avenue, B2-06\n",
        "# Singapore, 018972\n",
        "# 1800 407 4949\n",
        "\n",
        "# Apple Causeway Bay\n",
        "# Hysan Place\n",
        "# 500 Hennessy Road\n",
        "# Causeway Bay\n",
        "# 39793100\n",
        "\n",
        "# Apple Brompton Road\n",
        "# 17-27 Brompton Road\n",
        "# London, SW1X 9LF\n",
        "# 020 3089 3000\n",
        "\n",
        "# Apple Alstertal\n",
        "# Alstertal-Einkaufszentrum\n",
        "# Poppenbüttel\n",
        "# 22391 Hamburg\n",
        "# (040) 6118315000\n",
        "\n",
        "# Apple Akasya\n",
        "# Akasya AVM\n",
        "# Acıbadem Mah, Çeçen Sok No: 25\n",
        "# Üsküdar İstanbul 34660\n",
        "# (0216) 250 71 00\n",
        "\n",
        "# Apple Dubai Mall\n",
        "# The Dubai Mall\n",
        "# Downtown\n",
        "# Dubai\n",
        "# 800 0444 9012\n",
        "\n",
        "# Apple Highpoint\n",
        "# Highpoint Shopping Centre\n",
        "# 120-200 Rosamond Road\n",
        "# Maribyrnong, VIC 3032\n",
        "# (03) 9975 9700\n",
        "\n",
        "# Apple Marché Saint-Germain\n",
        "# 9 rue Clément\n",
        "# 75006 Paris\n",
        "# 01 85 65 48 00\n",
        "\n",
        "# Apple Union Square\n",
        "# 300 Post Street\n",
        "# San Francisco, CA 94108\n",
        "# (415) 486-4800"
      ],
      "metadata": {
        "id": "8cw9RQgYu9zv"
      },
      "execution_count": null,
      "outputs": []
    }
  ]
}